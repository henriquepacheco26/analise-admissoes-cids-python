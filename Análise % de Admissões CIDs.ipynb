{
 "cells": [
  {
   "cell_type": "markdown",
   "id": "df5e5df9-513e-4a49-8f88-00e2eccfa542",
   "metadata": {},
   "source": [
    "# OBJETIVO\n",
    "\n",
    "Análise de % de Admissões com CID preenchido -> Excluir SEM ALTA e afins -> (tanto junto, quanto separado, ter visão geral do hosp e por nome do médico)\n",
    "\n",
    "Ter noções evolutivas e identificar os médicos que não estão preenchendo os CIDs\n",
    "\n",
    "Criar um PPT com os resultados / análises dos dados extraídos\n",
    "\n",
    "# PASSO A PASSO\n",
    "\n",
    "Ler Bases\n",
    "\n",
    "Calcular o % agrupando por ano, mês, hospital e médico "
   ]
  },
  {
   "cell_type": "markdown",
   "id": "684ae115-af60-499f-b283-e9d818873f60",
   "metadata": {},
   "source": [
    "# LER BASES"
   ]
  },
  {
   "cell_type": "code",
   "execution_count": 1,
   "id": "5bfd1fc1-3a7c-42a7-9a60-8511b44f70ee",
   "metadata": {},
   "outputs": [],
   "source": [
    "import pandas as pd\n",
    "import numpy as np\n",
    "from datetime import datetime, timedelta\n",
    "import os\n",
    "from dateutil.relativedelta import relativedelta"
   ]
  },
  {
   "cell_type": "markdown",
   "id": "c34db33d-104b-43f4-86d1-1298878c821d",
   "metadata": {},
   "source": [
    "# HOSPITAL 1"
   ]
  },
  {
   "cell_type": "code",
   "execution_count": 26,
   "id": "ff4239ba-1c91-4d96-9de0-971896d017d4",
   "metadata": {},
   "outputs": [
    {
     "name": "stderr",
     "output_type": "stream",
     "text": [
      "C:\\Users\\HenriquedaLuzPacheco\\anaconda3\\Lib\\site-packages\\openpyxl\\styles\\stylesheet.py:237: UserWarning: Workbook contains no default style, apply openpyxl's default\n",
      "  warn(\"Workbook contains no default style, apply openpyxl's default\")\n",
      "C:\\Users\\HenriquedaLuzPacheco\\anaconda3\\Lib\\site-packages\\openpyxl\\styles\\stylesheet.py:237: UserWarning: Workbook contains no default style, apply openpyxl's default\n",
      "  warn(\"Workbook contains no default style, apply openpyxl's default\")\n",
      "C:\\Users\\HenriquedaLuzPacheco\\anaconda3\\Lib\\site-packages\\openpyxl\\styles\\stylesheet.py:237: UserWarning: Workbook contains no default style, apply openpyxl's default\n",
      "  warn(\"Workbook contains no default style, apply openpyxl's default\")\n",
      "C:\\Users\\HenriquedaLuzPacheco\\anaconda3\\Lib\\site-packages\\openpyxl\\styles\\stylesheet.py:237: UserWarning: Workbook contains no default style, apply openpyxl's default\n",
      "  warn(\"Workbook contains no default style, apply openpyxl's default\")\n"
     ]
    }
   ],
   "source": [
    "# PRODUÇÃO GERAL\n",
    "\n",
    "# Especificar o caminho da pasta\n",
    "folder_path = r\" caminho da pasta para leitura de bases / arquivos excel e csv \"\n",
    "\n",
    "# Inicializar um DataFrame vazio\n",
    "df_producaoCBV = pd.DataFrame()\n",
    "\n",
    "# Loop através de todos os arquivos na pasta\n",
    "for file_name in os.listdir(folder_path):\n",
    "    file_path = os.path.join(folder_path, file_name)\n",
    "    try:\n",
    "        if file_name.endswith(('.xlsx', '.xls')):\n",
    "            # Ler arquivo Excel\n",
    "            df_temp = pd.read_excel(file_path)\n",
    "        elif file_name.endswith('.csv'):\n",
    "            # Tentar detectar automaticamente o delimitador\n",
    "            df_temp = pd.read_csv(file_path, sep=None, engine='python')\n",
    "        else:\n",
    "            # Pular arquivos que não sejam Excel ou CSV\n",
    "            continue\n",
    "        \n",
    "        # Concatenar os dados lidos com o DataFrame principal\n",
    "        df_producaoCBV = pd.concat([df_producaoCBV, df_temp], ignore_index=True)\n",
    "    except Exception as e:\n",
    "        print(f\"Erro ao processar o arquivo {file_name}: {e}\")\n",
    "\n",
    "df_producaoCBV = df_producaoCBV.drop_duplicates()\n",
    "df_producaoCBV['Cód. Paciente'] = df_producaoCBV['Cód. Paciente'].astype(str)\n",
    "df_producaoCBV['Cód. Paciente'] = df_producaoCBV['Cód. Paciente'].str.rstrip('.0')\n",
    "\n",
    "df_producaoCBV['Cód. Admissão'] = df_producaoCBV['Cód. Admissão'].astype(str)\n",
    "df_producaoCBV['Cód. Admissão'] = df_producaoCBV['Cód. Admissão'].str.rstrip('.0')"
   ]
  },
  {
   "cell_type": "code",
   "execution_count": null,
   "id": "35b63db4-b6a6-41c4-bb86-624ec1e3445a",
   "metadata": {},
   "outputs": [],
   "source": [
    "df_producaoCBV.head(100)"
   ]
  },
  {
   "cell_type": "code",
   "execution_count": 28,
   "id": "fdb41249-c274-4b0b-b438-58f592abb6b3",
   "metadata": {},
   "outputs": [
    {
     "data": {
      "text/plain": [
       "92530"
      ]
     },
     "execution_count": 28,
     "metadata": {},
     "output_type": "execute_result"
    }
   ],
   "source": [
    "df_producaoCBV['Cód. Admissão'].nunique()"
   ]
  },
  {
   "cell_type": "markdown",
   "id": "ec6d756a-1d6e-4219-9d68-8b86c453ffd3",
   "metadata": {},
   "source": [
    "# TRATAR / FILTRAR DADOS -> HOSPITAL 1"
   ]
  },
  {
   "cell_type": "code",
   "execution_count": 29,
   "id": "a112a604-fa91-4a1c-9ff6-22e28beb20b7",
   "metadata": {},
   "outputs": [
    {
     "data": {
      "text/plain": [
       "Index(['Ano', 'Mês', 'Cód. Admissão', 'Data Admissão', 'Hora Admissão',\n",
       "       'Categoria', 'Subcategoria', 'Profissional Solicitante',\n",
       "       'Profissional Admissão', 'Médico Externo', 'Classificação Produto',\n",
       "       'CID da Alta', 'Tipo Recebimento', 'Convênio', 'Plano',\n",
       "       'Perfil Particular', 'Procedimento Principal', 'Produto Lançamento',\n",
       "       'Cód. Apresentação', 'Unidade', 'Especialidade', 'Caráter Admissão',\n",
       "       'Tipo Paciente', 'Observação Admissão', 'Tipo Produto', 'Pacote',\n",
       "       'Cód. Paciente', 'Paciente', 'Data Nascimento', 'Idade', 'Faixa Etária',\n",
       "       'Destino', 'Qtd. Produzida', 'Valor Produzido', 'Solicitante', 'Médico',\n",
       "       'Cirurgião'],\n",
       "      dtype='object')"
      ]
     },
     "execution_count": 29,
     "metadata": {},
     "output_type": "execute_result"
    }
   ],
   "source": [
    "df_producaoCBV.columns"
   ]
  },
  {
   "cell_type": "code",
   "execution_count": 30,
   "id": "afd25176-b461-41e8-ac51-11165389d918",
   "metadata": {},
   "outputs": [],
   "source": [
    "df_producaoCBV2 = df_producaoCBV.copy()"
   ]
  },
  {
   "cell_type": "code",
   "execution_count": 31,
   "id": "9a217d8c-2ce8-43cd-8583-efe72c533b28",
   "metadata": {},
   "outputs": [],
   "source": [
    "# TIRAR COLUNAS QUE NÃO VÃO SER UTILIZADAS\n",
    "df_producaoCBV2 = df_producaoCBV2[['Cód. Paciente', 'Cód. Admissão', 'Ano', 'Mês', 'Médico', 'Unidade', 'CID da Alta']]\n",
    "\n",
    "# RENOMAR COLUNA DE UNIDADE PARA NOME ÚNICO DO HOSPITAL\n",
    "df_producaoCBV2 = df_producaoCBV2.rename(columns={'Unidade': 'Hospital'})\n",
    "df_producaoCBV2['Hospital'] = 'HOSPITAL 1'"
   ]
  },
  {
   "cell_type": "code",
   "execution_count": null,
   "id": "02cf54a1-2d4a-49d1-829e-0e208e6c5011",
   "metadata": {},
   "outputs": [],
   "source": [
    "df_producaoCBV2.head(100)"
   ]
  },
  {
   "cell_type": "markdown",
   "id": "283da2e3-bcd0-4d03-9014-5ec6b01965e5",
   "metadata": {},
   "source": [
    "# VISÃO -> ANO, MÊS, HOSP -> HOSPITAL 1\n",
    "\n",
    "# % TOTAL DO HOSP NO TEMPO -> HOSPITAL 1"
   ]
  },
  {
   "cell_type": "code",
   "execution_count": 33,
   "id": "90da4605-759c-4ecb-b90d-4a5fcac4aad4",
   "metadata": {},
   "outputs": [],
   "source": [
    "# ✅ DF 1: Admissões com CID preenchido (exclui 'SEM ALTA' e nulos)\n",
    "df_cid_preenchido_cbv_AMH = df_producaoCBV2[\n",
    "    (df_producaoCBV2['CID da Alta'].notna()) & \n",
    "    (df_producaoCBV2['CID da Alta'].str.upper() != 'SEM ALTA')\n",
    "]\n",
    "\n",
    "# ✅ DF 2: Total de admissões (sem filtro)\n",
    "df_cid_total_cbv_AMH = df_producaoCBV2.copy()\n",
    "\n",
    "# ✅ Agrupar DF 1: Total de admissões com CID preenchido\n",
    "agrupado_cid_cbv_AMH = df_cid_preenchido_cbv_AMH.groupby(\n",
    "    ['Ano', 'Mês', 'Hospital']\n",
    ").agg(\n",
    "    adm_com_cid_cbv_AMH=('Cód. Admissão', 'nunique')\n",
    ").reset_index()\n",
    "\n",
    "# ✅ Agrupar DF 2: Total de admissões geral\n",
    "agrupado_total_cbv_AMH = df_cid_total_cbv_AMH.groupby(\n",
    "    ['Ano', 'Mês', 'Hospital']\n",
    ").agg(\n",
    "    adm_total_cbv_AMH=('Cód. Admissão', 'nunique')\n",
    ").reset_index()\n",
    "\n",
    "# ✅ Juntar os dois DataFrames\n",
    "df_resultadoCBV_AMH = pd.merge(\n",
    "    agrupado_total_cbv_AMH, \n",
    "    agrupado_cid_cbv_AMH, \n",
    "    on=['Ano', 'Mês', 'Hospital'], \n",
    "    how='left'\n",
    ")\n",
    "\n",
    "# ✅ Calcular percentual de admissões com CID preenchido\n",
    "df_resultadoCBV_AMH['% Admissões Com CID Preenchido'] = (\n",
    "    (df_resultadoCBV_AMH['adm_com_cid_cbv_AMH'] / df_resultadoCBV_AMH['adm_total_cbv_AMH']) * 100\n",
    ").round(2)\n",
    "\n",
    "# Renomar colunas para melhor legibilidade\n",
    "df_resultadoCBV_AMH = df_resultadoCBV_AMH.rename(columns={'adm_total_cbv_AMH': 'Total Admissões'})\n",
    "df_resultadoCBV_AMH = df_resultadoCBV_AMH.rename(columns={'adm_com_cid_cbv_AMH': 'Total Admissões Com CIDs Preenchidos'})\n",
    "\n",
    "# Criar coluna pegando a diferença de cids preenchidos com não preenchidos para deixar mais claro visivelmente\n",
    "df_resultadoCBV_AMH['% Admissões Sem CID Preenchido'] = (\n",
    "    (100 - df_resultadoCBV_AMH['% Admissões Com CID Preenchido'])).round(2)"
   ]
  },
  {
   "cell_type": "code",
   "execution_count": null,
   "id": "e46fc319-c86b-441d-992b-6fbb09b95f06",
   "metadata": {},
   "outputs": [],
   "source": [
    "df_resultadoCBV_AMH.head(100)"
   ]
  },
  {
   "cell_type": "markdown",
   "id": "1edca832-886b-44d0-ac10-dc8e534c5e03",
   "metadata": {},
   "source": [
    "# BAIXAR BASE / DF -> VISÃO ANO, MÊS, HOSP -> HOSPITAL 1"
   ]
  },
  {
   "cell_type": "code",
   "execution_count": 36,
   "id": "451edf9c-4016-45ae-b128-6f86f9c4b35c",
   "metadata": {},
   "outputs": [],
   "source": [
    "df_resultadoCBV_AMH.to_excel(r\" caminho para baixar a base resultado em excel \", index=False)"
   ]
  },
  {
   "cell_type": "markdown",
   "id": "4b916eff-c6c7-4f35-9d72-3cf1481074f0",
   "metadata": {},
   "source": [
    "# VISÃO -> HOSP -> HOSPITAL 1\n",
    "\n",
    "# % TOTAL DO HOSP -> HOSPITAL 1"
   ]
  },
  {
   "cell_type": "code",
   "execution_count": 37,
   "id": "e64f2bf5-e91a-4010-8138-1af28f51235d",
   "metadata": {},
   "outputs": [],
   "source": [
    "# ✅ DF 1: Admissões com CID preenchido (exclui 'SEM ALTA' e nulos)\n",
    "df_cid_preenchido_cbv_H = df_producaoCBV2[\n",
    "    (df_producaoCBV2['CID da Alta'].notna()) & \n",
    "    (df_producaoCBV2['CID da Alta'].str.upper() != 'SEM ALTA')\n",
    "]\n",
    "\n",
    "# ✅ DF 2: Total de admissões (sem filtro)\n",
    "df_cid_total_cbv_H = df_producaoCBV2.copy()\n",
    "\n",
    "# ✅ Agrupar DF 1: Total de admissões com CID preenchido\n",
    "agrupado_cid_cbv_H = df_cid_preenchido_cbv_H.groupby(\n",
    "    ['Hospital']\n",
    ").agg(\n",
    "    adm_com_cid_cbv_H=('Cód. Admissão', 'nunique')\n",
    ").reset_index()\n",
    "\n",
    "# ✅ Agrupar DF 2: Total de admissões geral\n",
    "agrupado_total_cbv_H = df_cid_total_cbv_H.groupby(\n",
    "    ['Hospital']\n",
    ").agg(\n",
    "    adm_total_cbv_H=('Cód. Admissão', 'nunique')\n",
    ").reset_index()\n",
    "\n",
    "# ✅ Juntar os dois DataFrames\n",
    "df_resultadoCBV_H = pd.merge(\n",
    "    agrupado_total_cbv_H, \n",
    "    agrupado_cid_cbv_H, \n",
    "    on=['Hospital'], \n",
    "    how='left'\n",
    ")\n",
    "\n",
    "# ✅ Calcular percentual de admissões com CID preenchido\n",
    "df_resultadoCBV_H['% Admissões Com CID Preenchido'] = (\n",
    "    (df_resultadoCBV_H['adm_com_cid_cbv_H'] / df_resultadoCBV_H['adm_total_cbv_H']) * 100\n",
    ").round(2)\n",
    "\n",
    "# Renomar colunas para melhor legibilidade\n",
    "df_resultadoCBV_H = df_resultadoCBV_H.rename(columns={'adm_total_cbv_H': 'Total Admissões'})\n",
    "df_resultadoCBV_H = df_resultadoCBV_H.rename(columns={'adm_total_cbv_H': 'Total Admissões Com CIDs Preenchidos'})\n",
    "\n",
    "# Criar coluna pegando a diferença de cids preenchidos com não preenchidos para deixar mais claro visivelmente\n",
    "df_resultadoCBV_H['% Admissões Sem CID Preenchido'] = (\n",
    "    (100 - df_resultadoCBV_H['% Admissões Com CID Preenchido'])).round(2)"
   ]
  },
  {
   "cell_type": "code",
   "execution_count": null,
   "id": "95591a81-4a46-43e3-9eb8-d4ad8b8d94ea",
   "metadata": {},
   "outputs": [],
   "source": [
    "df_resultadoCBV_H.head(100)"
   ]
  },
  {
   "cell_type": "markdown",
   "id": "4a8679b4-1ebc-4ab8-b99d-93190d3f9212",
   "metadata": {},
   "source": [
    "# BAIXAR BASE / DF -> VISÃO HOSP -> HOSPITAL 1"
   ]
  },
  {
   "cell_type": "code",
   "execution_count": 39,
   "id": "5c24e303-1979-4447-884b-9d7b9bc91cbc",
   "metadata": {},
   "outputs": [],
   "source": [
    "df_resultadoCBV_H.to_excel(r\" caminho para baixar a base resultado em excel \", index=False)"
   ]
  },
  {
   "cell_type": "markdown",
   "id": "56c7ba90-ba4c-440e-a112-da18d93ba617",
   "metadata": {},
   "source": [
    "# VISÃO -> ANO, MÊS, HOSP E MÉDICO -> HOSPITAL 1\n",
    "\n",
    "# % TOTAL DO HOSP NO TEMPO POR MÉDICO -> HOSPITAL 1"
   ]
  },
  {
   "cell_type": "code",
   "execution_count": 41,
   "id": "54781c20-ad2d-4cc8-a819-adf23a4a412f",
   "metadata": {},
   "outputs": [],
   "source": [
    "# ✅ DF 1: Admissões com CID preenchido (exclui 'SEM ALTA' e nulos)\n",
    "df_cid_preenchido_cbv_AMHM = df_producaoCBV2[\n",
    "    (df_producaoCBV2['CID da Alta'].notna()) & \n",
    "    (df_producaoCBV2['CID da Alta'].str.upper() != 'SEM ALTA')\n",
    "]\n",
    "\n",
    "# ✅ DF 2: Total de admissões (sem filtro)\n",
    "df_cid_total_cbv_AMHM = df_producaoCBV2.copy()\n",
    "\n",
    "# ✅ Agrupar DF 1: Total de admissões com CID preenchido\n",
    "agrupado_cid_cbv_AMHM = df_cid_preenchido_cbv_AMHM.groupby(\n",
    "    ['Ano', 'Mês', 'Médico','Hospital']\n",
    ").agg(\n",
    "    adm_com_cid_cbv_AMHM=('Cód. Admissão', 'nunique')\n",
    ").reset_index()\n",
    "\n",
    "# ✅ Agrupar DF 2: Total de admissões geral\n",
    "agrupado_total_cbv_AMHM = df_cid_total_cbv_AMHM.groupby(\n",
    "    ['Ano', 'Mês', 'Médico','Hospital']\n",
    ").agg(\n",
    "    adm_total_cbv_AMHM=('Cód. Admissão', 'nunique')\n",
    ").reset_index()\n",
    "\n",
    "# ✅ Juntar os dois DataFrames\n",
    "df_resultadoCBV_AMHM = pd.merge(\n",
    "    agrupado_total_cbv_AMHM, \n",
    "    agrupado_cid_cbv_AMHM, \n",
    "    on=['Ano', 'Mês', 'Médico','Hospital'], \n",
    "    how='left'\n",
    ")\n",
    "\n",
    "# ✅ Calcular percentual de admissões com CID preenchido\n",
    "df_resultadoCBV_AMHM['% Admissões Com CID Preenchido'] = (\n",
    "    (df_resultadoCBV_AMHM['adm_com_cid_cbv_AMHM'] / df_resultadoCBV_AMHM['adm_total_cbv_AMHM']) * 100\n",
    ").round(2)\n",
    "\n",
    "# Renomar colunas para melhor legibilidade\n",
    "df_resultadoCBV_AMHM = df_resultadoCBV_AMHM.rename(columns={'adm_total_cbv_AMHM': 'Total Admissões'})\n",
    "df_resultadoCBV_AMHM = df_resultadoCBV_AMHM.rename(columns={'adm_com_cid_cbv_AMHM': 'Total Admissões Com CIDs Preenchidos'})\n",
    "\n",
    "# Criar coluna pegando a diferença de cids preenchidos com não preenchidos para deixar mais claro visivelmente\n",
    "df_resultadoCBV_AMHM['% Admissões Sem CID Preenchido'] = (\n",
    "    (100 - df_resultadoCBV_AMHM['% Admissões Com CID Preenchido'])).round(2)"
   ]
  },
  {
   "cell_type": "code",
   "execution_count": null,
   "id": "1ed1ddd7-7be8-4771-afd3-db6f2b7b8bb3",
   "metadata": {},
   "outputs": [],
   "source": [
    "df_resultadoCBV_AMHM.head(100)"
   ]
  },
  {
   "cell_type": "markdown",
   "id": "58c42bc8-d5ce-4624-ae9f-bdbbf9e028c3",
   "metadata": {},
   "source": [
    "# BAIXAR BASE / DF -> VISÃO ANO, MÊS, HOSP E MÉDICO -> HOSPITAL 1"
   ]
  },
  {
   "cell_type": "code",
   "execution_count": 45,
   "id": "26c51bba-9648-4419-8cc3-32a1783c1a6b",
   "metadata": {},
   "outputs": [],
   "source": [
    "df_resultadoCBV_AMHM.to_excel(r\" caminho para baixar a base resultado em excel \", index=False)"
   ]
  },
  {
   "cell_type": "markdown",
   "id": "5b68b42d-c2ce-47fe-8cd0-a4ffcf32a826",
   "metadata": {},
   "source": [
    "# VISÃO -> HOSP E MÉDICO -> HOSPITAL 1\n",
    "\n",
    "# % TOTAL DO HOSP POR MÉDICO -> HOSPITAL 1"
   ]
  },
  {
   "cell_type": "code",
   "execution_count": 46,
   "id": "b4ebc089-ef13-43c6-a65c-6f60384db0e4",
   "metadata": {},
   "outputs": [],
   "source": [
    "# ✅ DF 1: Admissões com CID preenchido (exclui 'SEM ALTA' e nulos)\n",
    "df_cid_preenchido_cbv_HM = df_producaoCBV2[\n",
    "    (df_producaoCBV2['CID da Alta'].notna()) & \n",
    "    (df_producaoCBV2['CID da Alta'].str.upper() != 'SEM ALTA')\n",
    "]\n",
    "\n",
    "# ✅ DF 2: Total de admissões (sem filtro)\n",
    "df_cid_total_cbv_HM = df_producaoCBV2.copy()\n",
    "\n",
    "# ✅ Agrupar DF 1: Total de admissões com CID preenchido\n",
    "agrupado_cid_cbv_HM = df_cid_preenchido_cbv_HM.groupby(\n",
    "    ['Médico','Hospital']\n",
    ").agg(\n",
    "    adm_com_cid_cbv_HM=('Cód. Admissão', 'nunique')\n",
    ").reset_index()\n",
    "\n",
    "# ✅ Agrupar DF 2: Total de admissões geral\n",
    "agrupado_total_cbv_HM = df_cid_total_cbv_HM.groupby(\n",
    "    ['Médico','Hospital']\n",
    ").agg(\n",
    "    adm_total_cbv_HM=('Cód. Admissão', 'nunique')\n",
    ").reset_index()\n",
    "\n",
    "# ✅ Juntar os dois DataFrames\n",
    "df_resultadoCBV_HM = pd.merge(\n",
    "    agrupado_total_cbv_HM, \n",
    "    agrupado_cid_cbv_HM, \n",
    "    on=['Médico','Hospital'], \n",
    "    how='left'\n",
    ")\n",
    "\n",
    "# ✅ Calcular percentual de admissões com CID preenchido\n",
    "df_resultadoCBV_HM['% Admissões Com CID Preenchido'] = (\n",
    "    (df_resultadoCBV_HM['adm_com_cid_cbv_HM'] / df_resultadoCBV_HM['adm_total_cbv_HM']) * 100\n",
    ").round(2)\n",
    "\n",
    "# Renomar colunas para melhor legibilidade\n",
    "df_resultadoCBV_HM = df_resultadoCBV_HM.rename(columns={'adm_total_cbv_HM': 'Total Admissões'})\n",
    "df_resultadoCBV_HM = df_resultadoCBV_HM.rename(columns={'adm_com_cid_cbv_HM': 'Total Admissões Com CIDs Preenchidos'})\n",
    "\n",
    "# Criar coluna pegando a diferença de cids preenchidos com não preenchidos para deixar mais claro visivelmente\n",
    "df_resultadoCBV_HM['% Admissões Sem CID Preenchido'] = (\n",
    "    (100 - df_resultadoCBV_HM['% Admissões Com CID Preenchido'])).round(2)"
   ]
  },
  {
   "cell_type": "code",
   "execution_count": null,
   "id": "6102c9ec-5e53-4fc1-b1a3-9a25ef030718",
   "metadata": {},
   "outputs": [],
   "source": [
    "df_resultadoCBV_HM.head(100)"
   ]
  },
  {
   "cell_type": "markdown",
   "id": "67c97800-e559-43c1-9a77-6b4b2af6ea54",
   "metadata": {},
   "source": [
    "# BAIXAR BASE / DF -> VISÃO HOSP E MÉDICO -> HOSPITAL 1"
   ]
  },
  {
   "cell_type": "code",
   "execution_count": 48,
   "id": "609b22ca-78ce-4c89-8fa0-a530cc298d35",
   "metadata": {},
   "outputs": [],
   "source": [
    "df_resultadoCBV_HM.to_excel(r\" caminho para baixar a base resultado em excel \", index=False)"
   ]
  },
  {
   "cell_type": "markdown",
   "id": "bdf34804-bc60-4051-b8e9-8568ebda7fac",
   "metadata": {},
   "source": [
    "# ///////////////////////////////////////////////////////////////////////////////////////////"
   ]
  },
  {
   "cell_type": "markdown",
   "id": "30fcbc43-816e-4da2-a3b6-bb9b6b478e68",
   "metadata": {},
   "source": [
    "# ///////////////////////////////////////////////////////////////////////////////////////////"
   ]
  },
  {
   "cell_type": "markdown",
   "id": "6cb7af84-a365-4b7d-b93c-ee39e6b94d58",
   "metadata": {},
   "source": [
    "# ///////////////////////////////////////////////////////////////////////////////////////////"
   ]
  },
  {
   "cell_type": "markdown",
   "id": "74a36898-1b7d-41b9-9f7d-d14d0faa6623",
   "metadata": {},
   "source": [
    "# HOSPITAL 2"
   ]
  },
  {
   "cell_type": "code",
   "execution_count": 49,
   "id": "3945d2ff-ff1c-4156-b5ba-851ca12d15d9",
   "metadata": {},
   "outputs": [
    {
     "name": "stderr",
     "output_type": "stream",
     "text": [
      "C:\\Users\\HenriquedaLuzPacheco\\anaconda3\\Lib\\site-packages\\openpyxl\\styles\\stylesheet.py:237: UserWarning: Workbook contains no default style, apply openpyxl's default\n",
      "  warn(\"Workbook contains no default style, apply openpyxl's default\")\n",
      "C:\\Users\\HenriquedaLuzPacheco\\anaconda3\\Lib\\site-packages\\openpyxl\\styles\\stylesheet.py:237: UserWarning: Workbook contains no default style, apply openpyxl's default\n",
      "  warn(\"Workbook contains no default style, apply openpyxl's default\")\n",
      "C:\\Users\\HenriquedaLuzPacheco\\anaconda3\\Lib\\site-packages\\openpyxl\\styles\\stylesheet.py:237: UserWarning: Workbook contains no default style, apply openpyxl's default\n",
      "  warn(\"Workbook contains no default style, apply openpyxl's default\")\n"
     ]
    }
   ],
   "source": [
    "# PRODUÇÃO GERAL\n",
    "\n",
    "# Especificar o caminho da pasta\n",
    "folder_path = r\" caminho da pasta para leitura de bases / arquivos excel e csv \"\n",
    "\n",
    "# Inicializar um DataFrame vazio\n",
    "df_producaoHOC = pd.DataFrame()\n",
    "\n",
    "# Loop através de todos os arquivos na pasta\n",
    "for file_name in os.listdir(folder_path):\n",
    "    file_path = os.path.join(folder_path, file_name)\n",
    "    try:\n",
    "        if file_name.endswith(('.xlsx', '.xls')):\n",
    "            # Ler arquivo Excel\n",
    "            df_temp = pd.read_excel(file_path)\n",
    "        elif file_name.endswith('.csv'):\n",
    "            # Tentar detectar automaticamente o delimitador\n",
    "            df_temp = pd.read_csv(file_path, sep=None, engine='python')\n",
    "        else:\n",
    "            # Pular arquivos que não sejam Excel ou CSV\n",
    "            continue\n",
    "        \n",
    "        # Concatenar os dados lidos com o DataFrame principal\n",
    "        df_producaoHOC = pd.concat([df_producaoHOC, df_temp], ignore_index=True)\n",
    "    except Exception as e:\n",
    "        print(f\"Erro ao processar o arquivo {file_name}: {e}\")\n",
    "\n",
    "df_producaoHOC = df_producaoHOC.drop_duplicates()\n",
    "df_producaoHOC['Cód. Paciente'] = df_producaoHOC['Cód. Paciente'].astype(str)\n",
    "df_producaoHOC['Cód. Paciente'] = df_producaoHOC['Cód. Paciente'].str.rstrip('.0')\n",
    "\n",
    "df_producaoHOC['Cód. Admissão'] = df_producaoHOC['Cód. Admissão'].astype(str)\n",
    "df_producaoHOC['Cód. Admissão'] = df_producaoHOC['Cód. Admissão'].str.rstrip('.0')"
   ]
  },
  {
   "cell_type": "code",
   "execution_count": null,
   "id": "54711a01-228d-4b6e-8fc7-5ac12d70659d",
   "metadata": {},
   "outputs": [],
   "source": [
    "df_producaoHOC.head(100)"
   ]
  },
  {
   "cell_type": "code",
   "execution_count": 50,
   "id": "596ddcb9-e3e2-4049-bdbc-b2bd533feef3",
   "metadata": {},
   "outputs": [
    {
     "data": {
      "text/plain": [
       "117274"
      ]
     },
     "execution_count": 50,
     "metadata": {},
     "output_type": "execute_result"
    }
   ],
   "source": [
    "df_producaoHOC['Cód. Admissão'].nunique()"
   ]
  },
  {
   "cell_type": "markdown",
   "id": "558d009f-c810-46a6-9b61-8c32bdeaafac",
   "metadata": {},
   "source": [
    "# TRATAR / FILTRAR DADOS -> HOSPITAL 2"
   ]
  },
  {
   "cell_type": "code",
   "execution_count": 54,
   "id": "bce86017-f691-4ade-83f6-7d1356f92d10",
   "metadata": {},
   "outputs": [
    {
     "data": {
      "text/plain": [
       "Index(['Ano', 'Mês', 'Cód. Admissão', 'Data Admissão', 'Hora Admissão',\n",
       "       'Categoria', 'Subcategoria', 'Profissional Solicitante',\n",
       "       'Profissional Admissão', 'Médico Externo', 'Classificação Produto',\n",
       "       'CID da Alta', 'Tipo Recebimento', 'Convênio', 'Plano',\n",
       "       'Perfil Particular', 'Procedimento Principal', 'Produto Lançamento',\n",
       "       'Cód. Apresentação', 'Unidade', 'Especialidade', 'Caráter Admissão',\n",
       "       'Tipo Paciente', 'Observação Admissão', 'Tipo Produto', 'Pacote',\n",
       "       'Cód. Paciente', 'Paciente', 'Data Nascimento', 'Idade', 'Faixa Etária',\n",
       "       'Destino', 'Qtd. Produzida', 'Valor Produzido'],\n",
       "      dtype='object')"
      ]
     },
     "execution_count": 54,
     "metadata": {},
     "output_type": "execute_result"
    }
   ],
   "source": [
    "df_producaoHOC.columns"
   ]
  },
  {
   "cell_type": "code",
   "execution_count": 59,
   "id": "cf523969-cdc2-4b7d-a01d-cd3b38f64a09",
   "metadata": {},
   "outputs": [],
   "source": [
    "df_producaoHOC2 = df_producaoHOC.copy()"
   ]
  },
  {
   "cell_type": "code",
   "execution_count": 60,
   "id": "75166fac-13c0-4bc6-ad55-1508a5da7ca6",
   "metadata": {},
   "outputs": [],
   "source": [
    "# TIRAR COLUNAS QUE NÃO VÃO SER UTILIZADAS\n",
    "df_producaoHOC2 = df_producaoHOC2[['Cód. Paciente', 'Cód. Admissão', 'Ano', 'Mês', 'Profissional Admissão', 'Unidade', 'CID da Alta']]\n",
    "\n",
    "# RENOMAR COLUNA DE UNIDADE PARA NOME ÚNICO DO HOSPITAL\n",
    "df_producaoHOC2 = df_producaoHOC2.rename(columns={'Unidade': 'Hospital'})\n",
    "df_producaoHOC2['Hospital'] = 'HOSPITAL 2'"
   ]
  },
  {
   "cell_type": "code",
   "execution_count": null,
   "id": "bc5a680f-2d14-4884-8a12-bf2192a9f525",
   "metadata": {},
   "outputs": [],
   "source": [
    "df_producaoHOC2.head(100)"
   ]
  },
  {
   "cell_type": "markdown",
   "id": "df27b466-f8ed-4bcf-a099-3179e551f427",
   "metadata": {},
   "source": [
    "# VISÃO -> ANO, MÊS, HOSP -> HOSPITAL 2\n",
    "\n",
    "# % TOTAL DO HOSP NO TEMPO -> HOSPITAL 2"
   ]
  },
  {
   "cell_type": "code",
   "execution_count": 66,
   "id": "b25221c0-e867-432b-9193-3a1005780e38",
   "metadata": {},
   "outputs": [],
   "source": [
    "# ✅ DF 1: Admissões com CID preenchido (exclui 'SEM ALTA' e nulos)\n",
    "df_cid_preenchido_hoc_AMH = df_producaoHOC2[\n",
    "    (df_producaoHOC2['CID da Alta'].notna()) & \n",
    "    (df_producaoHOC2['CID da Alta'].str.upper() != 'SEM ALTA')\n",
    "]\n",
    "\n",
    "# ✅ DF 2: Total de admissões (sem filtro)\n",
    "df_cid_total_hoc_AMH = df_producaoHOC2.copy()\n",
    "\n",
    "# ✅ Agrupar DF 1: Total de admissões com CID preenchido\n",
    "agrupado_cid_hoc_AMH = df_cid_preenchido_hoc_AMH.groupby(\n",
    "    ['Ano', 'Mês', 'Hospital']\n",
    ").agg(\n",
    "    adm_com_cid_hoc_AMH=('Cód. Admissão', 'nunique')\n",
    ").reset_index()\n",
    "\n",
    "# ✅ Agrupar DF 2: Total de admissões geral\n",
    "agrupado_total_hoc_AMH = df_cid_total_hoc_AMH.groupby(\n",
    "    ['Ano', 'Mês', 'Hospital']\n",
    ").agg(\n",
    "    adm_total_hoc_AMH=('Cód. Admissão', 'nunique')\n",
    ").reset_index()\n",
    "\n",
    "# ✅ Juntar os dois DataFrames\n",
    "df_resultadoHOC_AMH = pd.merge(\n",
    "    agrupado_total_hoc_AMH, \n",
    "    agrupado_cid_hoc_AMH, \n",
    "    on=['Ano', 'Mês', 'Hospital'], \n",
    "    how='left'\n",
    ")\n",
    "\n",
    "# ✅ Calcular percentual de admissões com CID preenchido\n",
    "df_resultadoHOC_AMH['% Admissões Com CID Preenchido'] = (\n",
    "    (df_resultadoHOC_AMH['adm_com_cid_hoc_AMH'] / df_resultadoHOC_AMH['adm_total_hoc_AMH']) * 100\n",
    ").round(2)\n",
    "\n",
    "# Renomar colunas para melhor legibilidade\n",
    "df_resultadoHOC_AMH = df_resultadoHOC_AMH.rename(columns={'adm_total_hoc_AMH': 'Total Admissões'})\n",
    "df_resultadoHOC_AMH = df_resultadoHOC_AMH.rename(columns={'adm_com_cid_hoc_AMH': 'Total Admissões Com CIDs Preenchidos'})\n",
    "\n",
    "# Criar coluna pegando a diferença de cids preenchidos com não preenchidos para deixar mais claro visivelmente\n",
    "df_resultadoHOC_AMH['% Admissões Sem CID Preenchido'] = (\n",
    "    (100 - df_resultadoHOC_AMH['% Admissões Com CID Preenchido'])).round(2)"
   ]
  },
  {
   "cell_type": "code",
   "execution_count": null,
   "id": "74277219-9d44-4623-a7d9-11ed5ef2821c",
   "metadata": {},
   "outputs": [],
   "source": [
    "df_resultadoHOC_AMH.head(100)"
   ]
  },
  {
   "cell_type": "markdown",
   "id": "0a7d15fa-5431-4dc2-9002-08a76bdd1fc7",
   "metadata": {},
   "source": [
    "# BAIXAR BASE / DF -> VISÃO ANO, MÊS, HOSP -> HOSPITAL 2"
   ]
  },
  {
   "cell_type": "code",
   "execution_count": 68,
   "id": "2e7b4ea8-06a5-4f5f-911a-ed3a789e7767",
   "metadata": {},
   "outputs": [],
   "source": [
    "df_resultadoHOC_AMH.to_excel(r\" caminho para baixar a base resultado em excel \", index=False)"
   ]
  },
  {
   "cell_type": "markdown",
   "id": "9e9f9fdd-2d5f-47fa-aad2-16fffdc2b66d",
   "metadata": {},
   "source": [
    "# VISÃO -> HOSP -> HOSPITAL 2\n",
    "\n",
    "# % TOTAL DO HOSP -> HOSPITAL 2"
   ]
  },
  {
   "cell_type": "code",
   "execution_count": 69,
   "id": "d6f42643-c455-47dc-890c-e9f03437d0e6",
   "metadata": {},
   "outputs": [],
   "source": [
    "# ✅ DF 1: Admissões com CID preenchido (exclui 'SEM ALTA' e nulos)\n",
    "df_cid_preenchido_hoc_H = df_producaoHOC2[\n",
    "    (df_producaoHOC2['CID da Alta'].notna()) & \n",
    "    (df_producaoHOC2['CID da Alta'].str.upper() != 'SEM ALTA')\n",
    "]\n",
    "\n",
    "# ✅ DF 2: Total de admissões (sem filtro)\n",
    "df_cid_total_hoc_H = df_producaoHOC2.copy()\n",
    "\n",
    "# ✅ Agrupar DF 1: Total de admissões com CID preenchido\n",
    "agrupado_cid_hoc_H = df_cid_preenchido_hoc_H.groupby(\n",
    "    ['Hospital']\n",
    ").agg(\n",
    "    adm_com_cid_hoc_H=('Cód. Admissão', 'nunique')\n",
    ").reset_index()\n",
    "\n",
    "# ✅ Agrupar DF 2: Total de admissões geral\n",
    "agrupado_total_hoc_H = df_cid_total_hoc_H.groupby(\n",
    "    ['Hospital']\n",
    ").agg(\n",
    "    adm_total_hoc_H=('Cód. Admissão', 'nunique')\n",
    ").reset_index()\n",
    "\n",
    "# ✅ Juntar os dois DataFrames\n",
    "df_resultadoHOC_H = pd.merge(\n",
    "    agrupado_total_hoc_H, \n",
    "    agrupado_cid_hoc_H, \n",
    "    on=['Hospital'], \n",
    "    how='left'\n",
    ")\n",
    "\n",
    "# ✅ Calcular percentual de admissões com CID preenchido\n",
    "df_resultadoHOC_H['% Admissões Com CID Preenchido'] = (\n",
    "    (df_resultadoHOC_H['adm_com_cid_hoc_H'] / df_resultadoHOC_H['adm_total_hoc_H']) * 100\n",
    ").round(2)\n",
    "\n",
    "# Renomar colunas para melhor legibilidade\n",
    "df_resultadoHOC_H = df_resultadoHOC_H.rename(columns={'adm_total_hoc_H': 'Total Admissões'})\n",
    "df_resultadoHOC_H = df_resultadoHOC_H.rename(columns={'adm_total_hoc_H': 'Total Admissões Com CIDs Preenchidos'})\n",
    "\n",
    "# Criar coluna pegando a diferença de cids preenchidos com não preenchidos para deixar mais claro visivelmente\n",
    "df_resultadoHOC_H['% Admissões Sem CID Preenchido'] = (\n",
    "    (100 - df_resultadoHOC_H['% Admissões Com CID Preenchido'])).round(2)"
   ]
  },
  {
   "cell_type": "code",
   "execution_count": null,
   "id": "209cf1e5-1f61-4f5e-9eef-c24427e82786",
   "metadata": {},
   "outputs": [],
   "source": [
    "df_resultadoHOC_H.head(100)"
   ]
  },
  {
   "cell_type": "markdown",
   "id": "05cd8eda-97b8-4688-bcd6-bc4c4a2f4ef1",
   "metadata": {},
   "source": [
    "# BAIXAR BASE / DF -> VISÃO HOSP -> HOSPITAL 2"
   ]
  },
  {
   "cell_type": "code",
   "execution_count": 71,
   "id": "7d4105b9-5723-4233-a5c1-6b87a79e6134",
   "metadata": {},
   "outputs": [],
   "source": [
    "df_resultadoHOC_H.to_excel(r\" caminho para baixar a base resultado em excel \", index=False)"
   ]
  },
  {
   "cell_type": "markdown",
   "id": "d17d9af8-ad27-414b-b126-bee165dd5b49",
   "metadata": {},
   "source": [
    "# VISÃO -> ANO, MÊS, HOSP E MÉDICO -> HOSPITAL 2\n",
    "\n",
    "# % TOTAL DO HOSP NO TEMPO POR MÉDICO -> HOSPITAL 2"
   ]
  },
  {
   "cell_type": "code",
   "execution_count": 73,
   "id": "3967802f-5b39-4c4c-b616-51efc70f9ded",
   "metadata": {},
   "outputs": [],
   "source": [
    "# ✅ DF 1: Admissões com CID preenchido (exclui 'SEM ALTA' e nulos)\n",
    "df_cid_preenchido_hoc_AMHM = df_producaoHOC2[\n",
    "    (df_producaoHOC2['CID da Alta'].notna()) & \n",
    "    (df_producaoHOC2['CID da Alta'].str.upper() != 'SEM ALTA')\n",
    "]\n",
    "\n",
    "# ✅ DF 2: Total de admissões (sem filtro)\n",
    "df_cid_total_hoc_AMHM = df_producaoHOC2.copy()\n",
    "\n",
    "# ✅ Agrupar DF 1: Total de admissões com CID preenchido\n",
    "agrupado_cid_hoc_AMHM = df_cid_preenchido_hoc_AMHM.groupby(\n",
    "    ['Ano', 'Mês', 'Profissional Admissão','Hospital']\n",
    ").agg(\n",
    "    adm_com_cid_hoc_AMHM=('Cód. Admissão', 'nunique')\n",
    ").reset_index()\n",
    "\n",
    "# ✅ Agrupar DF 2: Total de admissões geral\n",
    "agrupado_total_hoc_AMHM = df_cid_total_hoc_AMHM.groupby(\n",
    "    ['Ano', 'Mês', 'Profissional Admissão','Hospital']\n",
    ").agg(\n",
    "    adm_total_hoc_AMHM=('Cód. Admissão', 'nunique')\n",
    ").reset_index()\n",
    "\n",
    "# ✅ Juntar os dois DataFrames\n",
    "df_resultadoHOC_AMHM = pd.merge(\n",
    "    agrupado_total_hoc_AMHM, \n",
    "    agrupado_cid_hoc_AMHM, \n",
    "    on=['Ano', 'Mês', 'Profissional Admissão','Hospital'], \n",
    "    how='left'\n",
    ")\n",
    "\n",
    "# ✅ Calcular percentual de admissões com CID preenchido\n",
    "df_resultadoHOC_AMHM['% Admissões Com CID Preenchido'] = (\n",
    "    (df_resultadoHOC_AMHM['adm_com_cid_hoc_AMHM'] / df_resultadoHOC_AMHM['adm_total_hoc_AMHM']) * 100\n",
    ").round(2)\n",
    "\n",
    "# Renomar colunas para melhor legibilidade\n",
    "df_resultadoHOC_AMHM = df_resultadoHOC_AMHM.rename(columns={'adm_total_hoc_AMHM': 'Total Admissões'})\n",
    "df_resultadoHOC_AMHM = df_resultadoHOC_AMHM.rename(columns={'adm_com_cid_hoc_AMHM': 'Total Admissões Com CIDs Preenchidos'})\n",
    "\n",
    "# Criar coluna pegando a diferença de cids preenchidos com não preenchidos para deixar mais claro visivelmente\n",
    "df_resultadoHOC_AMHM['% Admissões Sem CID Preenchido'] = (\n",
    "    (100 - df_resultadoHOC_AMHM['% Admissões Com CID Preenchido'])).round(2)"
   ]
  },
  {
   "cell_type": "code",
   "execution_count": null,
   "id": "7294abc7-f17a-46f3-99a5-39da328dd0c2",
   "metadata": {},
   "outputs": [],
   "source": [
    "df_resultadoHOC_AMHM.head(100)"
   ]
  },
  {
   "cell_type": "markdown",
   "id": "d1c493bb-b183-46c1-8a5b-94c65cabe12d",
   "metadata": {},
   "source": [
    "# BAIXAR BASE / DF -> VISÃO ANO, MÊS, HOSP E MÉDICO -> HOSPITAL 2"
   ]
  },
  {
   "cell_type": "code",
   "execution_count": 75,
   "id": "4fa1bd36-5d1c-4d1c-ab6b-00e0f37255a0",
   "metadata": {},
   "outputs": [],
   "source": [
    "df_resultadoHOC_AMHM.to_excel(r\" caminho para baixar a base resultado em excel \", index=False)"
   ]
  },
  {
   "cell_type": "markdown",
   "id": "13d6e4ca-0125-4163-b3cb-32aedf650ce9",
   "metadata": {},
   "source": [
    "# VISÃO -> HOSP E MÉDICO -> HOSPITAL 2\n",
    "\n",
    "# % TOTAL DO HOSP POR MÉDICO -> HOSPITAL 2"
   ]
  },
  {
   "cell_type": "code",
   "execution_count": 76,
   "id": "ad4c60b1-95cb-4869-8571-fb020505fff7",
   "metadata": {},
   "outputs": [],
   "source": [
    "# ✅ DF 1: Admissões com CID preenchido (exclui 'SEM ALTA' e nulos)\n",
    "df_cid_preenchido_hoc_HM = df_producaoHOC2[\n",
    "    (df_producaoHOC2['CID da Alta'].notna()) & \n",
    "    (df_producaoHOC2['CID da Alta'].str.upper() != 'SEM ALTA')\n",
    "]\n",
    "\n",
    "# ✅ DF 2: Total de admissões (sem filtro)\n",
    "df_cid_total_hoc_HM = df_producaoHOC2.copy()\n",
    "\n",
    "# ✅ Agrupar DF 1: Total de admissões com CID preenchido\n",
    "agrupado_cid_hoc_HM = df_cid_preenchido_hoc_HM.groupby(\n",
    "    ['Profissional Admissão','Hospital']\n",
    ").agg(\n",
    "    adm_com_cid_hoc_HM=('Cód. Admissão', 'nunique')\n",
    ").reset_index()\n",
    "\n",
    "# ✅ Agrupar DF 2: Total de admissões geral\n",
    "agrupado_total_hoc_HM = df_cid_total_hoc_HM.groupby(\n",
    "    ['Profissional Admissão','Hospital']\n",
    ").agg(\n",
    "    adm_total_hoc_HM=('Cód. Admissão', 'nunique')\n",
    ").reset_index()\n",
    "\n",
    "# ✅ Juntar os dois DataFrames\n",
    "df_resultadoHOC_HM = pd.merge(\n",
    "    agrupado_total_hoc_HM, \n",
    "    agrupado_cid_hoc_HM, \n",
    "    on=['Profissional Admissão','Hospital'], \n",
    "    how='left'\n",
    ")\n",
    "\n",
    "# ✅ Calcular percentual de admissões com CID preenchido\n",
    "df_resultadoHOC_HM['% Admissões Com CID Preenchido'] = (\n",
    "    (df_resultadoHOC_HM['adm_com_cid_hoc_HM'] / df_resultadoHOC_HM['adm_total_hoc_HM']) * 100\n",
    ").round(2)\n",
    "\n",
    "# Renomar colunas para melhor legibilidade\n",
    "df_resultadoHOC_HM = df_resultadoHOC_HM.rename(columns={'adm_total_hoc_HM': 'Total Admissões'})\n",
    "df_resultadoHOC_HM = df_resultadoHOC_HM.rename(columns={'adm_com_cid_hoc_HM': 'Total Admissões Com CIDs Preenchidos'})\n",
    "\n",
    "# Criar coluna pegando a diferença de cids preenchidos com não preenchidos para deixar mais claro visivelmente\n",
    "df_resultadoHOC_HM['% Admissões Sem CID Preenchido'] = (\n",
    "    (100 - df_resultadoHOC_HM['% Admissões Com CID Preenchido'])).round(2)"
   ]
  },
  {
   "cell_type": "code",
   "execution_count": null,
   "id": "09102174-282d-4d8f-8afb-e8ee5698eb6f",
   "metadata": {},
   "outputs": [],
   "source": [
    "df_resultadoHOC_HM.head(100)"
   ]
  },
  {
   "cell_type": "markdown",
   "id": "148c4260-43b0-487e-8fe0-9d5d9fedd496",
   "metadata": {},
   "source": [
    "# BAIXAR BASE / DF -> VISÃO HOSP E MÉDICO -> HOSPITAL 2"
   ]
  },
  {
   "cell_type": "code",
   "execution_count": 78,
   "id": "ba2e9405-7674-41fc-8390-313c597bd785",
   "metadata": {},
   "outputs": [],
   "source": [
    "df_resultadoHOC_HM.to_excel(r\" caminho para baixar a base resultado em excel \", index=False)"
   ]
  },
  {
   "cell_type": "markdown",
   "id": "2a2b5316-e886-4cb7-b3e8-10a13b994eb5",
   "metadata": {},
   "source": [
    "# ///////////////////////////////////////////////////////////////////////////////////////////"
   ]
  },
  {
   "cell_type": "markdown",
   "id": "fc790b55-d9cc-4fe7-8b82-c4a664307efa",
   "metadata": {},
   "source": [
    "# ///////////////////////////////////////////////////////////////////////////////////////////"
   ]
  },
  {
   "cell_type": "markdown",
   "id": "72924735-a16e-482b-97b1-3012fa143f6a",
   "metadata": {},
   "source": [
    "# ///////////////////////////////////////////////////////////////////////////////////////////"
   ]
  },
  {
   "cell_type": "markdown",
   "id": "bfbeb8e8-e3fb-4c1d-b4cf-4d39fae89747",
   "metadata": {},
   "source": [
    "# HOSPITAL 3"
   ]
  },
  {
   "cell_type": "code",
   "execution_count": 79,
   "id": "b425e752-4cbe-41dc-832a-f5f31a313cdc",
   "metadata": {},
   "outputs": [
    {
     "name": "stderr",
     "output_type": "stream",
     "text": [
      "C:\\Users\\HenriquedaLuzPacheco\\anaconda3\\Lib\\site-packages\\openpyxl\\styles\\stylesheet.py:237: UserWarning: Workbook contains no default style, apply openpyxl's default\n",
      "  warn(\"Workbook contains no default style, apply openpyxl's default\")\n",
      "C:\\Users\\HenriquedaLuzPacheco\\anaconda3\\Lib\\site-packages\\openpyxl\\styles\\stylesheet.py:237: UserWarning: Workbook contains no default style, apply openpyxl's default\n",
      "  warn(\"Workbook contains no default style, apply openpyxl's default\")\n",
      "C:\\Users\\HenriquedaLuzPacheco\\anaconda3\\Lib\\site-packages\\openpyxl\\styles\\stylesheet.py:237: UserWarning: Workbook contains no default style, apply openpyxl's default\n",
      "  warn(\"Workbook contains no default style, apply openpyxl's default\")\n",
      "C:\\Users\\HenriquedaLuzPacheco\\anaconda3\\Lib\\site-packages\\openpyxl\\styles\\stylesheet.py:237: UserWarning: Workbook contains no default style, apply openpyxl's default\n",
      "  warn(\"Workbook contains no default style, apply openpyxl's default\")\n"
     ]
    }
   ],
   "source": [
    "# PRODUÇÃO GERAL\n",
    "\n",
    "# Especificar o caminho da pasta\n",
    "folder_path = r\" caminho da pasta para leitura de bases / arquivos excel e csv \"\n",
    "\n",
    "# Inicializar um DataFrame vazio\n",
    "df_producaoHRO = pd.DataFrame()\n",
    "\n",
    "# Loop através de todos os arquivos na pasta\n",
    "for file_name in os.listdir(folder_path):\n",
    "    file_path = os.path.join(folder_path, file_name)\n",
    "    try:\n",
    "        if file_name.endswith(('.xlsx', '.xls')):\n",
    "            # Ler arquivo Excel\n",
    "            df_temp = pd.read_excel(file_path)\n",
    "        elif file_name.endswith('.csv'):\n",
    "            # Tentar detectar automaticamente o delimitador\n",
    "            df_temp = pd.read_csv(file_path, sep=None, engine='python')\n",
    "        else:\n",
    "            # Pular arquivos que não sejam Excel ou CSV\n",
    "            continue\n",
    "        \n",
    "        # Concatenar os dados lidos com o DataFrame principal\n",
    "        df_producaoHRO = pd.concat([df_producaoHRO, df_temp], ignore_index=True)\n",
    "    except Exception as e:\n",
    "        print(f\"Erro ao processar o arquivo {file_name}: {e}\")\n",
    "\n",
    "df_producaoHRO = df_producaoHRO.drop_duplicates()\n",
    "df_producaoHRO['Cód. Paciente'] = df_producaoHRO['Cód. Paciente'].astype(str)\n",
    "df_producaoHRO['Cód. Paciente'] = df_producaoHRO['Cód. Paciente'].str.rstrip('.0')\n",
    "\n",
    "df_producaoHRO['Cód. Admissão'] = df_producaoHRO['Cód. Admissão'].astype(str)\n",
    "df_producaoHRO['Cód. Admissão'] = df_producaoHRO['Cód. Admissão'].str.rstrip('.0')"
   ]
  },
  {
   "cell_type": "code",
   "execution_count": null,
   "id": "e1fa3b71-fb64-4f1b-ba88-c427b593f7f1",
   "metadata": {},
   "outputs": [],
   "source": [
    "df_producaoHRO.head(100)"
   ]
  },
  {
   "cell_type": "code",
   "execution_count": 81,
   "id": "7bf500e8-7dbe-42e3-b58d-e89eaa0fa4a6",
   "metadata": {},
   "outputs": [
    {
     "data": {
      "text/plain": [
       "142701"
      ]
     },
     "execution_count": 81,
     "metadata": {},
     "output_type": "execute_result"
    }
   ],
   "source": [
    "df_producaoHRO['Cód. Admissão'].nunique()"
   ]
  },
  {
   "cell_type": "markdown",
   "id": "6063437f-d6a3-47b5-a48d-f3e674294334",
   "metadata": {},
   "source": [
    "# TRATAR / FILTRAR DADOS -> HOSPITAL 3"
   ]
  },
  {
   "cell_type": "code",
   "execution_count": 82,
   "id": "022530b8-f2b8-41d3-9620-94628f1e4cce",
   "metadata": {},
   "outputs": [
    {
     "data": {
      "text/plain": [
       "Index(['Ano', 'Mês', 'Cód. Admissão', 'Data Admissão', 'Hora Admissão',\n",
       "       'Categoria', 'Subcategoria', 'Profissional Solicitante',\n",
       "       'Profissional Admissão', 'Médico Externo', 'Classificação Produto',\n",
       "       'CID da Alta', 'Tipo Recebimento', 'Convênio', 'Plano',\n",
       "       'Perfil Particular', 'Procedimento Principal', 'Produto Lançamento',\n",
       "       'Cód. Apresentação', 'Unidade', 'Especialidade', 'Caráter Admissão',\n",
       "       'Tipo Paciente', 'Observação Admissão', 'Tipo Produto', 'Pacote',\n",
       "       'Cód. Paciente', 'Paciente', 'Data Nascimento', 'Idade', 'Faixa Etária',\n",
       "       'Destino', 'Qtd. Produzida', 'Valor Produzido', 'Solicitante', 'Médico',\n",
       "       'Cirurgião'],\n",
       "      dtype='object')"
      ]
     },
     "execution_count": 82,
     "metadata": {},
     "output_type": "execute_result"
    }
   ],
   "source": [
    "df_producaoHRO.columns"
   ]
  },
  {
   "cell_type": "code",
   "execution_count": 83,
   "id": "0924643e-cba8-4804-94a0-27f0772cc1b6",
   "metadata": {},
   "outputs": [],
   "source": [
    "df_producaoHRO2 = df_producaoHRO.copy()"
   ]
  },
  {
   "cell_type": "code",
   "execution_count": 84,
   "id": "11184986-9555-4a0e-8397-aeb4425cf82d",
   "metadata": {},
   "outputs": [],
   "source": [
    "# TIRAR COLUNAS QUE NÃO VÃO SER UTILIZADAS\n",
    "df_producaoHRO2 = df_producaoHRO2[['Cód. Paciente', 'Cód. Admissão', 'Ano', 'Mês', 'Médico', 'Unidade', 'CID da Alta']]\n",
    "\n",
    "# RENOMAR COLUNA DE UNIDADE PARA NOME ÚNICO DO HOSPITAL\n",
    "df_producaoHRO2 = df_producaoHRO2.rename(columns={'Unidade': 'Hospital'})\n",
    "df_producaoHRO2['Hospital'] = 'HOSPITAL 3'"
   ]
  },
  {
   "cell_type": "code",
   "execution_count": null,
   "id": "a1522796-aeef-495f-b865-740510fd23f6",
   "metadata": {},
   "outputs": [],
   "source": [
    "df_producaoHRO2.head(100)"
   ]
  },
  {
   "cell_type": "markdown",
   "id": "3195dc4f-1caf-4b09-8777-0f400cf51ffc",
   "metadata": {},
   "source": [
    "# VISÃO -> ANO, MÊS, HOSP -> HOSPITAL 3\n",
    "\n",
    "# % TOTAL DO HOSP NO TEMPO -> HOSPITAL 3"
   ]
  },
  {
   "cell_type": "code",
   "execution_count": 86,
   "id": "9081fa93-6d6e-414d-9ad4-6bff6ae9dd5b",
   "metadata": {},
   "outputs": [],
   "source": [
    "# ✅ DF 1: Admissões com CID preenchido (exclui 'SEM ALTA' e nulos)\n",
    "df_cid_preenchido_hro_AMH = df_producaoHRO2[\n",
    "    (df_producaoHRO2['CID da Alta'].notna()) & \n",
    "    (df_producaoHRO2['CID da Alta'].str.upper() != 'SEM ALTA')\n",
    "]\n",
    "\n",
    "# ✅ DF 2: Total de admissões (sem filtro)\n",
    "df_cid_total_hro_AMH = df_producaoHRO2.copy()\n",
    "\n",
    "# ✅ Agrupar DF 1: Total de admissões com CID preenchido\n",
    "agrupado_cid_hro_AMH = df_cid_preenchido_hro_AMH.groupby(\n",
    "    ['Ano', 'Mês', 'Hospital']\n",
    ").agg(\n",
    "    adm_com_cid_hro_AMH=('Cód. Admissão', 'nunique')\n",
    ").reset_index()\n",
    "\n",
    "# ✅ Agrupar DF 2: Total de admissões geral\n",
    "agrupado_total_hro_AMH = df_cid_total_hro_AMH.groupby(\n",
    "    ['Ano', 'Mês', 'Hospital']\n",
    ").agg(\n",
    "    adm_total_hro_AMH=('Cód. Admissão', 'nunique')\n",
    ").reset_index()\n",
    "\n",
    "# ✅ Juntar os dois DataFrames\n",
    "df_resultadoHRO_AMH = pd.merge(\n",
    "    agrupado_total_hro_AMH, \n",
    "    agrupado_cid_hro_AMH, \n",
    "    on=['Ano', 'Mês', 'Hospital'], \n",
    "    how='left'\n",
    ")\n",
    "\n",
    "# ✅ Calcular percentual de admissões com CID preenchido\n",
    "df_resultadoHRO_AMH['% Admissões Com CID Preenchido'] = (\n",
    "    (df_resultadoHRO_AMH['adm_com_cid_hro_AMH'] / df_resultadoHRO_AMH['adm_total_hro_AMH']) * 100\n",
    ").round(2)\n",
    "\n",
    "# Renomar colunas para melhor legibilidade\n",
    "df_resultadoHRO_AMH = df_resultadoHRO_AMH.rename(columns={'adm_total_hro_AMH': 'Total Admissões'})\n",
    "df_resultadoHRO_AMH = df_resultadoHRO_AMH.rename(columns={'adm_com_cid_hro_AMH': 'Total Admissões Com CIDs Preenchidos'})\n",
    "\n",
    "# Criar coluna pegando a diferença de cids preenchidos com não preenchidos para deixar mais claro visivelmente\n",
    "df_resultadoHRO_AMH['% Admissões Sem CID Preenchido'] = (\n",
    "    (100 - df_resultadoHRO_AMH['% Admissões Com CID Preenchido'])).round(2)"
   ]
  },
  {
   "cell_type": "code",
   "execution_count": null,
   "id": "1fe10ff6-62de-4320-b98b-82ef6df383e6",
   "metadata": {},
   "outputs": [],
   "source": [
    "df_resultadoHRO_AMH.head(100)"
   ]
  },
  {
   "cell_type": "markdown",
   "id": "50e71e78-fd69-4639-80a4-a52ed1745689",
   "metadata": {},
   "source": [
    "# BAIXAR BASE / DF -> VISÃO ANO, MÊS, HOSP -> HOSPITAL 3"
   ]
  },
  {
   "cell_type": "code",
   "execution_count": 88,
   "id": "e9c279c1-f60f-4930-8243-390baf59d450",
   "metadata": {},
   "outputs": [],
   "source": [
    "df_resultadoHRO_AMH.to_excel(r\" caminho para baixar a base resultado em excel \", index=False)"
   ]
  },
  {
   "cell_type": "markdown",
   "id": "eb3b3d02-1218-4a36-9aa4-a8032239bd0f",
   "metadata": {},
   "source": [
    "# VISÃO -> HOSP -> HOSPITAL 3\n",
    "\n",
    "# % TOTAL DO HOSP -> HOSPITAL 3"
   ]
  },
  {
   "cell_type": "code",
   "execution_count": 89,
   "id": "949a3f74-1473-44a2-802f-33cb8d6b813c",
   "metadata": {},
   "outputs": [],
   "source": [
    "# ✅ DF 1: Admissões com CID preenchido (exclui 'SEM ALTA' e nulos)\n",
    "df_cid_preenchido_hro_H = df_producaoHRO2[\n",
    "    (df_producaoHRO2['CID da Alta'].notna()) & \n",
    "    (df_producaoHRO2['CID da Alta'].str.upper() != 'SEM ALTA')\n",
    "]\n",
    "\n",
    "# ✅ DF 2: Total de admissões (sem filtro)\n",
    "df_cid_total_hro_H = df_producaoHRO2.copy()\n",
    "\n",
    "# ✅ Agrupar DF 1: Total de admissões com CID preenchido\n",
    "agrupado_cid_hro_H = df_cid_preenchido_hro_H.groupby(\n",
    "    ['Hospital']\n",
    ").agg(\n",
    "    adm_com_cid_hro_H=('Cód. Admissão', 'nunique')\n",
    ").reset_index()\n",
    "\n",
    "# ✅ Agrupar DF 2: Total de admissões geral\n",
    "agrupado_total_hro_H = df_cid_total_hro_H.groupby(\n",
    "    ['Hospital']\n",
    ").agg(\n",
    "    adm_total_hro_H=('Cód. Admissão', 'nunique')\n",
    ").reset_index()\n",
    "\n",
    "# ✅ Juntar os dois DataFrames\n",
    "df_resultadoHRO_H = pd.merge(\n",
    "    agrupado_total_hro_H, \n",
    "    agrupado_cid_hro_H, \n",
    "    on=['Hospital'], \n",
    "    how='left'\n",
    ")\n",
    "\n",
    "# ✅ Calcular percentual de admissões com CID preenchido\n",
    "df_resultadoHRO_H['% Admissões Com CID Preenchido'] = (\n",
    "    (df_resultadoHRO_H['adm_com_cid_hro_H'] / df_resultadoHRO_H['adm_total_hro_H']) * 100\n",
    ").round(2)\n",
    "\n",
    "# Renomar colunas para melhor legibilidade\n",
    "df_resultadoHRO_H = df_resultadoHRO_H.rename(columns={'adm_total_hro_H': 'Total Admissões'})\n",
    "df_resultadoHRO_H = df_resultadoHRO_H.rename(columns={'adm_total_hro_H': 'Total Admissões Com CIDs Preenchidos'})\n",
    "\n",
    "# Criar coluna pegando a diferença de cids preenchidos com não preenchidos para deixar mais claro visivelmente\n",
    "df_resultadoHRO_H['% Admissões Sem CID Preenchido'] = (\n",
    "    (100 - df_resultadoHRO_H['% Admissões Com CID Preenchido'])).round(2)"
   ]
  },
  {
   "cell_type": "code",
   "execution_count": null,
   "id": "4bb7b340-b1d6-4303-9d39-c8be24b3733d",
   "metadata": {},
   "outputs": [],
   "source": [
    "df_resultadoHRO_H.head(100)"
   ]
  },
  {
   "cell_type": "markdown",
   "id": "20d8f7a4-3586-4246-b95a-f643d54091a5",
   "metadata": {},
   "source": [
    "# BAIXAR BASE / DF -> VISÃO HOSP -> HOSPITAL 3"
   ]
  },
  {
   "cell_type": "code",
   "execution_count": 91,
   "id": "e92ca14c-6f56-47fd-af57-ae0c27c74604",
   "metadata": {},
   "outputs": [],
   "source": [
    "df_resultadoHRO_H.to_excel(r\" caminho para baixar a base resultado em excel \", index=False)"
   ]
  },
  {
   "cell_type": "markdown",
   "id": "f637b5e8-6a46-4d82-b548-928727ea1e3f",
   "metadata": {},
   "source": [
    "# VISÃO -> ANO, MÊS, HOSP E MÉDICO -> HOSPITAL 3\n",
    "\n",
    "# % TOTAL DO HOSP NO TEMPO POR MÉDICO -> HOSPITAL 3"
   ]
  },
  {
   "cell_type": "code",
   "execution_count": 92,
   "id": "a503dd25-5f85-46fa-8bdd-6437b79263f2",
   "metadata": {},
   "outputs": [],
   "source": [
    "# ✅ DF 1: Admissões com CID preenchido (exclui 'SEM ALTA' e nulos)\n",
    "df_cid_preenchido_hro_AMHM = df_producaoHRO2[\n",
    "    (df_producaoHRO2['CID da Alta'].notna()) & \n",
    "    (df_producaoHRO2['CID da Alta'].str.upper() != 'SEM ALTA')\n",
    "]\n",
    "\n",
    "# ✅ DF 2: Total de admissões (sem filtro)\n",
    "df_cid_total_hro_AMHM = df_producaoHRO2.copy()\n",
    "\n",
    "# ✅ Agrupar DF 1: Total de admissões com CID preenchido\n",
    "agrupado_cid_hro_AMHM = df_cid_preenchido_hro_AMHM.groupby(\n",
    "    ['Ano', 'Mês', 'Médico','Hospital']\n",
    ").agg(\n",
    "    adm_com_cid_hro_AMHM=('Cód. Admissão', 'nunique')\n",
    ").reset_index()\n",
    "\n",
    "# ✅ Agrupar DF 2: Total de admissões geral\n",
    "agrupado_total_hro_AMHM = df_cid_total_hro_AMHM.groupby(\n",
    "    ['Ano', 'Mês', 'Médico','Hospital']\n",
    ").agg(\n",
    "    adm_total_hro_AMHM=('Cód. Admissão', 'nunique')\n",
    ").reset_index()\n",
    "\n",
    "# ✅ Juntar os dois DataFrames\n",
    "df_resultadoHRO_AMHM = pd.merge(\n",
    "    agrupado_total_hro_AMHM, \n",
    "    agrupado_cid_hro_AMHM, \n",
    "    on=['Ano', 'Mês', 'Médico','Hospital'], \n",
    "    how='left'\n",
    ")\n",
    "\n",
    "# ✅ Calcular percentual de admissões com CID preenchido\n",
    "df_resultadoHRO_AMHM['% Admissões Com CID Preenchido'] = (\n",
    "    (df_resultadoHRO_AMHM['adm_com_cid_hro_AMHM'] / df_resultadoHRO_AMHM['adm_total_hro_AMHM']) * 100\n",
    ").round(2)\n",
    "\n",
    "# Renomar colunas para melhor legibilidade\n",
    "df_resultadoHRO_AMHM = df_resultadoHRO_AMHM.rename(columns={'adm_total_hro_AMHM': 'Total Admissões'})\n",
    "df_resultadoHRO_AMHM = df_resultadoHRO_AMHM.rename(columns={'adm_com_cid_hro_AMHM': 'Total Admissões Com CIDs Preenchidos'})\n",
    "\n",
    "# Criar coluna pegando a diferença de cids preenchidos com não preenchidos para deixar mais claro visivelmente\n",
    "df_resultadoHRO_AMHM['% Admissões Sem CID Preenchido'] = (\n",
    "    (100 - df_resultadoHRO_AMHM['% Admissões Com CID Preenchido'])).round(2)"
   ]
  },
  {
   "cell_type": "code",
   "execution_count": null,
   "id": "b13e26c9-0b5b-4095-9ab2-6ad9ec5bc013",
   "metadata": {},
   "outputs": [],
   "source": [
    "df_resultadoHRO_AMHM.head(100)"
   ]
  },
  {
   "cell_type": "markdown",
   "id": "e2520371-7bb1-411f-9fc5-c443cdb90714",
   "metadata": {},
   "source": [
    "# BAIXAR BASE / DF -> VISÃO ANO, MÊS, HOSP E MÉDICO -> HOSPITAL 3"
   ]
  },
  {
   "cell_type": "code",
   "execution_count": 94,
   "id": "2b12904d-1035-418b-8a02-58701e869fd0",
   "metadata": {},
   "outputs": [],
   "source": [
    "df_resultadoHRO_AMHM.to_excel(r\" caminho para baixar a base resultado em excel \", index=False)"
   ]
  },
  {
   "cell_type": "markdown",
   "id": "a778635d-3af2-49e4-8372-d2feac0bd6e9",
   "metadata": {},
   "source": [
    "# VISÃO -> HOSP E MÉDICO -> HOSPITAL 3\n",
    "\n",
    "# % TOTAL DO HOSP POR MÉDICO -> HOSPITAL 3"
   ]
  },
  {
   "cell_type": "code",
   "execution_count": 95,
   "id": "28a9e426-f414-4f9b-b979-42f02d0306ff",
   "metadata": {},
   "outputs": [],
   "source": [
    "# ✅ DF 1: Admissões com CID preenchido (exclui 'SEM ALTA' e nulos)\n",
    "df_cid_preenchido_hro_HM = df_producaoHRO2[\n",
    "    (df_producaoHRO2['CID da Alta'].notna()) & \n",
    "    (df_producaoHRO2['CID da Alta'].str.upper() != 'SEM ALTA')\n",
    "]\n",
    "\n",
    "# ✅ DF 2: Total de admissões (sem filtro)\n",
    "df_cid_total_hro_HM = df_producaoHRO2.copy()\n",
    "\n",
    "# ✅ Agrupar DF 1: Total de admissões com CID preenchido\n",
    "agrupado_cid_hro_HM = df_cid_preenchido_hro_HM.groupby(\n",
    "    ['Médico','Hospital']\n",
    ").agg(\n",
    "    adm_com_cid_hro_HM=('Cód. Admissão', 'nunique')\n",
    ").reset_index()\n",
    "\n",
    "# ✅ Agrupar DF 2: Total de admissões geral\n",
    "agrupado_total_hro_HM = df_cid_total_hro_HM.groupby(\n",
    "    ['Médico','Hospital']\n",
    ").agg(\n",
    "    adm_total_hro_HM=('Cód. Admissão', 'nunique')\n",
    ").reset_index()\n",
    "\n",
    "# ✅ Juntar os dois DataFrames\n",
    "df_resultadoHRO_HM = pd.merge(\n",
    "    agrupado_total_hro_HM, \n",
    "    agrupado_cid_hro_HM, \n",
    "    on=['Médico','Hospital'], \n",
    "    how='left'\n",
    ")\n",
    "\n",
    "# ✅ Calcular percentual de admissões com CID preenchido\n",
    "df_resultadoHRO_HM['% Admissões Com CID Preenchido'] = (\n",
    "    (df_resultadoHRO_HM['adm_com_cid_hro_HM'] / df_resultadoHRO_HM['adm_total_hro_HM']) * 100\n",
    ").round(2)\n",
    "\n",
    "# Renomar colunas para melhor legibilidade\n",
    "df_resultadoHRO_HM = df_resultadoHRO_HM.rename(columns={'adm_total_hro_HM': 'Total Admissões'})\n",
    "df_resultadoHRO_HM = df_resultadoHRO_HM.rename(columns={'adm_com_cid_hro_HM': 'Total Admissões Com CIDs Preenchidos'})\n",
    "\n",
    "# Criar coluna pegando a diferença de cids preenchidos com não preenchidos para deixar mais claro visivelmente\n",
    "df_resultadoHRO_HM['% Admissões Sem CID Preenchido'] = (\n",
    "    (100 - df_resultadoHRO_HM['% Admissões Com CID Preenchido'])).round(2)"
   ]
  },
  {
   "cell_type": "code",
   "execution_count": null,
   "id": "affbf811-83bb-4b07-a851-4d1cafde39a9",
   "metadata": {},
   "outputs": [],
   "source": [
    "df_resultadoHRO_HM.head(100)"
   ]
  },
  {
   "cell_type": "markdown",
   "id": "b8249935-018d-4790-a5df-45bf7b27f355",
   "metadata": {},
   "source": [
    "# BAIXAR BASE / DF -> VISÃO HOSP E MÉDICO -> HOSPITAL 3"
   ]
  },
  {
   "cell_type": "code",
   "execution_count": 97,
   "id": "d71a7fad-cee9-4521-87b7-c949afd965ed",
   "metadata": {},
   "outputs": [],
   "source": [
    "df_resultadoHRO_HM.to_excel(r\" caminho para baixar a base resultado em excel \", index=False)"
   ]
  },
  {
   "cell_type": "markdown",
   "id": "ab87c3cf-7b27-40be-baec-feac51327de0",
   "metadata": {},
   "source": [
    "# ///////////////////////////////////////////////////////////////////////////////////////////"
   ]
  },
  {
   "cell_type": "markdown",
   "id": "a9254299-28a4-4ced-9a0c-a69651f8e78a",
   "metadata": {},
   "source": [
    "# ///////////////////////////////////////////////////////////////////////////////////////////"
   ]
  },
  {
   "cell_type": "markdown",
   "id": "fd998225-c01e-4716-8dca-1d6b29d55a1d",
   "metadata": {},
   "source": [
    "# ///////////////////////////////////////////////////////////////////////////////////////////"
   ]
  },
  {
   "cell_type": "markdown",
   "id": "aac277e9-6edf-4dc1-96e6-e079c673c368",
   "metadata": {},
   "source": [
    "# HOSPITAL 4"
   ]
  },
  {
   "cell_type": "code",
   "execution_count": 98,
   "id": "68d32a7f-5218-430c-aa5f-64ed2ed6d184",
   "metadata": {},
   "outputs": [
    {
     "name": "stderr",
     "output_type": "stream",
     "text": [
      "C:\\Users\\HenriquedaLuzPacheco\\anaconda3\\Lib\\site-packages\\openpyxl\\styles\\stylesheet.py:237: UserWarning: Workbook contains no default style, apply openpyxl's default\n",
      "  warn(\"Workbook contains no default style, apply openpyxl's default\")\n",
      "C:\\Users\\HenriquedaLuzPacheco\\anaconda3\\Lib\\site-packages\\openpyxl\\styles\\stylesheet.py:237: UserWarning: Workbook contains no default style, apply openpyxl's default\n",
      "  warn(\"Workbook contains no default style, apply openpyxl's default\")\n"
     ]
    }
   ],
   "source": [
    "# PRODUÇÃO GERAL\n",
    "\n",
    "# Especificar o caminho da pasta\n",
    "folder_path = r\" caminho da pasta para leitura de bases / arquivos excel e csv \"\n",
    "\n",
    "# Inicializar um DataFrame vazio\n",
    "df_producaoOFTA = pd.DataFrame()\n",
    "\n",
    "# Loop através de todos os arquivos na pasta\n",
    "for file_name in os.listdir(folder_path):\n",
    "    file_path = os.path.join(folder_path, file_name)\n",
    "    try:\n",
    "        if file_name.endswith(('.xlsx', '.xls')):\n",
    "            # Ler arquivo Excel\n",
    "            df_temp = pd.read_excel(file_path)\n",
    "        elif file_name.endswith('.csv'):\n",
    "            # Tentar detectar automaticamente o delimitador\n",
    "            df_temp = pd.read_csv(file_path, sep=None, engine='python')\n",
    "        else:\n",
    "            # Pular arquivos que não sejam Excel ou CSV\n",
    "            continue\n",
    "        \n",
    "        # Concatenar os dados lidos com o DataFrame principal\n",
    "        df_producaoOFTA = pd.concat([df_producaoOFTA, df_temp], ignore_index=True)\n",
    "    except Exception as e:\n",
    "        print(f\"Erro ao processar o arquivo {file_name}: {e}\")\n",
    "\n",
    "df_producaoOFTA = df_producaoOFTA.drop_duplicates()\n",
    "df_producaoOFTA['Cód. Paciente'] = df_producaoOFTA['Cód. Paciente'].astype(str)\n",
    "df_producaoOFTA['Cód. Paciente'] = df_producaoOFTA['Cód. Paciente'].str.rstrip('.0')\n",
    "\n",
    "df_producaoOFTA['Cód. Admissão'] = df_producaoOFTA['Cód. Admissão'].astype(str)\n",
    "df_producaoOFTA['Cód. Admissão'] = df_producaoOFTA['Cód. Admissão'].str.rstrip('.0')"
   ]
  },
  {
   "cell_type": "code",
   "execution_count": null,
   "id": "68ee845b-af79-4fed-aae4-a2b8e5521127",
   "metadata": {},
   "outputs": [],
   "source": [
    "df_producaoOFTA.head(100)"
   ]
  },
  {
   "cell_type": "code",
   "execution_count": 101,
   "id": "74201716-367d-463d-874a-c0f11e64ac87",
   "metadata": {},
   "outputs": [
    {
     "data": {
      "text/plain": [
       "84254"
      ]
     },
     "execution_count": 101,
     "metadata": {},
     "output_type": "execute_result"
    }
   ],
   "source": [
    "df_producaoOFTA['Cód. Admissão'].nunique()"
   ]
  },
  {
   "cell_type": "markdown",
   "id": "57672459-80f7-4ede-af15-458679126945",
   "metadata": {},
   "source": [
    "# TRATAR / FILTRAR DADOS -> HOSPITAL 4"
   ]
  },
  {
   "cell_type": "code",
   "execution_count": 102,
   "id": "c2105aea-2cde-4cc5-97f2-c366be2285e0",
   "metadata": {},
   "outputs": [
    {
     "data": {
      "text/plain": [
       "Index(['Ano', 'Mês', 'Cód. Admissão', 'Data Admissão', 'Hora Admissão',\n",
       "       'Categoria', 'Subcategoria', 'Profissional Solicitante',\n",
       "       'Profissional Admissão', 'Médico Externo', 'Classificação Produto',\n",
       "       'CID da Alta', 'Tipo Recebimento', 'Convênio', 'Plano',\n",
       "       'Perfil Particular', 'Procedimento Principal', 'Produto Lançamento',\n",
       "       'Cód. Apresentação', 'Unidade', 'Especialidade', 'Caráter Admissão',\n",
       "       'Tipo Paciente', 'Observação Admissão', 'Tipo Produto', 'Pacote',\n",
       "       'Cód. Paciente', 'Paciente', 'Data Nascimento', 'Idade', 'Faixa Etária',\n",
       "       'Destino', 'Qtd. Produzida', 'Valor Produzido'],\n",
       "      dtype='object')"
      ]
     },
     "execution_count": 102,
     "metadata": {},
     "output_type": "execute_result"
    }
   ],
   "source": [
    "df_producaoOFTA.columns"
   ]
  },
  {
   "cell_type": "code",
   "execution_count": 104,
   "id": "081dac1f-5bb7-425f-860f-ba81e7f43170",
   "metadata": {},
   "outputs": [],
   "source": [
    "df_producaoOFTA2 = df_producaoOFTA.copy()"
   ]
  },
  {
   "cell_type": "code",
   "execution_count": 105,
   "id": "dc4f73ee-3068-4aef-888f-9fc396fb964f",
   "metadata": {},
   "outputs": [],
   "source": [
    "# TIRAR COLUNAS QUE NÃO VÃO SER UTILIZADAS\n",
    "df_producaoOFTA2 = df_producaoOFTA2[['Cód. Paciente', 'Cód. Admissão', 'Ano', 'Mês', 'Profissional Admissão', 'Unidade', 'CID da Alta']]\n",
    "\n",
    "# RENOMAR COLUNA DE UNIDADE PARA NOME ÚNICO DO HOSPITAL\n",
    "df_producaoOFTA2 = df_producaoOFTA2.rename(columns={'Unidade': 'Hospital'})\n",
    "df_producaoOFTA2['Hospital'] = 'HOSPITAL 4'"
   ]
  },
  {
   "cell_type": "code",
   "execution_count": null,
   "id": "66f9f6bf-05e0-46c9-9a74-04a84808fb35",
   "metadata": {},
   "outputs": [],
   "source": [
    "df_producaoOFTA2.head(100)"
   ]
  },
  {
   "cell_type": "markdown",
   "id": "7ee0c6fa-43fd-4675-ae5d-2ad56f2a296f",
   "metadata": {},
   "source": [
    "# VISÃO -> ANO, MÊS, HOSP -> HOSPITAL 4\n",
    "\n",
    "# % TOTAL DO HOSP NO TEMPO -> HOSPITAL 4"
   ]
  },
  {
   "cell_type": "code",
   "execution_count": 107,
   "id": "5c1f016a-9691-48ba-98dd-b9d8491097bf",
   "metadata": {},
   "outputs": [],
   "source": [
    "# ✅ DF 1: Admissões com CID preenchido (exclui 'SEM ALTA' e nulos)\n",
    "df_cid_preenchido_ofta_AMH = df_producaoOFTA2[\n",
    "    (df_producaoOFTA2['CID da Alta'].notna()) & \n",
    "    (df_producaoOFTA2['CID da Alta'].str.upper() != 'SEM ALTA')\n",
    "]\n",
    "\n",
    "# ✅ DF 2: Total de admissões (sem filtro)\n",
    "df_cid_total_ofta_AMH = df_producaoOFTA2.copy()\n",
    "\n",
    "# ✅ Agrupar DF 1: Total de admissões com CID preenchido\n",
    "agrupado_cid_ofta_AMH = df_cid_preenchido_ofta_AMH.groupby(\n",
    "    ['Ano', 'Mês', 'Hospital']\n",
    ").agg(\n",
    "    adm_com_cid_ofta_AMH=('Cód. Admissão', 'nunique')\n",
    ").reset_index()\n",
    "\n",
    "# ✅ Agrupar DF 2: Total de admissões geral\n",
    "agrupado_total_ofta_AMH = df_cid_total_ofta_AMH.groupby(\n",
    "    ['Ano', 'Mês', 'Hospital']\n",
    ").agg(\n",
    "    adm_total_ofta_AMH=('Cód. Admissão', 'nunique')\n",
    ").reset_index()\n",
    "\n",
    "# ✅ Juntar os dois DataFrames\n",
    "df_resultadoOFTA_AMH = pd.merge(\n",
    "    agrupado_total_ofta_AMH, \n",
    "    agrupado_cid_ofta_AMH, \n",
    "    on=['Ano', 'Mês', 'Hospital'], \n",
    "    how='left'\n",
    ")\n",
    "\n",
    "# ✅ Calcular percentual de admissões com CID preenchido\n",
    "df_resultadoOFTA_AMH['% Admissões Com CID Preenchido'] = (\n",
    "    (df_resultadoOFTA_AMH['adm_com_cid_ofta_AMH'] / df_resultadoOFTA_AMH['adm_total_ofta_AMH']) * 100\n",
    ").round(2)\n",
    "\n",
    "# Renomar colunas para melhor legibilidade\n",
    "df_resultadoOFTA_AMH = df_resultadoOFTA_AMH.rename(columns={'adm_total_ofta_AMH': 'Total Admissões'})\n",
    "df_resultadoOFTA_AMH = df_resultadoOFTA_AMH.rename(columns={'adm_com_cid_ofta_AMH': 'Total Admissões Com CIDs Preenchidos'})\n",
    "\n",
    "# Criar coluna pegando a diferença de cids preenchidos com não preenchidos para deixar mais claro visivelmente\n",
    "df_resultadoOFTA_AMH['% Admissões Sem CID Preenchido'] = (\n",
    "    (100 - df_resultadoOFTA_AMH['% Admissões Com CID Preenchido'])).round(2)"
   ]
  },
  {
   "cell_type": "code",
   "execution_count": null,
   "id": "0c3cd148-ea78-4857-890a-7f644ef30b69",
   "metadata": {},
   "outputs": [],
   "source": [
    "df_resultadoOFTA_AMH.head(100)"
   ]
  },
  {
   "cell_type": "markdown",
   "id": "7d59b9e7-6cfe-41b3-aa62-38eeb3473697",
   "metadata": {},
   "source": [
    "# BAIXAR BASE / DF -> VISÃO ANO, MÊS, HOSP -> HOSPITAL 4"
   ]
  },
  {
   "cell_type": "code",
   "execution_count": 109,
   "id": "c5df14ab-1a40-4d0d-ad62-e6f59570c56c",
   "metadata": {},
   "outputs": [],
   "source": [
    "df_resultadoOFTA_AMH.to_excel(r\" caminho para baixar a base resultado em excel \", index=False)"
   ]
  },
  {
   "cell_type": "markdown",
   "id": "037b9fbc-f50d-40b7-9e09-285ee540971f",
   "metadata": {},
   "source": [
    "# VISÃO -> HOSP -> HOSPITAL 4\n",
    "\n",
    "# % TOTAL DO HOSP -> HOSPITAL 4"
   ]
  },
  {
   "cell_type": "code",
   "execution_count": 110,
   "id": "994d3dbc-92cb-4425-9b59-dd7b08589e5a",
   "metadata": {},
   "outputs": [],
   "source": [
    "# ✅ DF 1: Admissões com CID preenchido (exclui 'SEM ALTA' e nulos)\n",
    "df_cid_preenchido_ofta_H = df_producaoOFTA2[\n",
    "    (df_producaoOFTA2['CID da Alta'].notna()) & \n",
    "    (df_producaoOFTA2['CID da Alta'].str.upper() != 'SEM ALTA')\n",
    "]\n",
    "\n",
    "# ✅ DF 2: Total de admissões (sem filtro)\n",
    "df_cid_total_ofta_H = df_producaoOFTA2.copy()\n",
    "\n",
    "# ✅ Agrupar DF 1: Total de admissões com CID preenchido\n",
    "agrupado_cid_ofta_H = df_cid_preenchido_ofta_H.groupby(\n",
    "    ['Hospital']\n",
    ").agg(\n",
    "    adm_com_cid_ofta_H=('Cód. Admissão', 'nunique')\n",
    ").reset_index()\n",
    "\n",
    "# ✅ Agrupar DF 2: Total de admissões geral\n",
    "agrupado_total_ofta_H = df_cid_total_ofta_H.groupby(\n",
    "    ['Hospital']\n",
    ").agg(\n",
    "    adm_total_ofta_H=('Cód. Admissão', 'nunique')\n",
    ").reset_index()\n",
    "\n",
    "# ✅ Juntar os dois DataFrames\n",
    "df_resultadoOFTA_H = pd.merge(\n",
    "    agrupado_total_ofta_H, \n",
    "    agrupado_cid_ofta_H, \n",
    "    on=['Hospital'], \n",
    "    how='left'\n",
    ")\n",
    "\n",
    "# ✅ Calcular percentual de admissões com CID preenchido\n",
    "df_resultadoOFTA_H['% Admissões Com CID Preenchido'] = (\n",
    "    (df_resultadoOFTA_H['adm_com_cid_ofta_H'] / df_resultadoOFTA_H['adm_total_ofta_H']) * 100\n",
    ").round(2)\n",
    "\n",
    "# Renomar colunas para melhor legibilidade\n",
    "df_resultadoOFTA_H = df_resultadoOFTA_H.rename(columns={'adm_total_ofta_H': 'Total Admissões'})\n",
    "df_resultadoOFTA_H = df_resultadoOFTA_H.rename(columns={'adm_total_ofta_H': 'Total Admissões Com CIDs Preenchidos'})\n",
    "\n",
    "# Criar coluna pegando a diferença de cids preenchidos com não preenchidos para deixar mais claro visivelmente\n",
    "df_resultadoOFTA_H['% Admissões Sem CID Preenchido'] = (\n",
    "    (100 - df_resultadoOFTA_H['% Admissões Com CID Preenchido'])).round(2)"
   ]
  },
  {
   "cell_type": "code",
   "execution_count": null,
   "id": "1a0f5fca-c48f-4f61-94f9-ebd73f753c94",
   "metadata": {},
   "outputs": [],
   "source": [
    "df_resultadoOFTA_H.head(100)"
   ]
  },
  {
   "cell_type": "markdown",
   "id": "dc967bb6-4703-442f-96ac-501647dfb2d1",
   "metadata": {},
   "source": [
    "# BAIXAR BASE / DF -> VISÃO HOSP -> HOSPITAL 4"
   ]
  },
  {
   "cell_type": "code",
   "execution_count": 112,
   "id": "3e7a9535-2052-4a76-ac9f-674fd258971d",
   "metadata": {},
   "outputs": [],
   "source": [
    "df_resultadoOFTA_H.to_excel(r\" caminho para baixar a base resultado em excel \", index=False)"
   ]
  },
  {
   "cell_type": "markdown",
   "id": "647d49fa-4109-487e-9bfd-6cd4dd8c78a8",
   "metadata": {},
   "source": [
    "# VISÃO -> ANO, MÊS, HOSP E MÉDICO -> HOSPITAL 4\n",
    "\n",
    "# % TOTAL DO HOSP NO TEMPO POR MÉDICO -> HOSPITAL 4"
   ]
  },
  {
   "cell_type": "code",
   "execution_count": 113,
   "id": "1a63fc34-97dd-41e8-bf81-4d76baa75ee5",
   "metadata": {},
   "outputs": [],
   "source": [
    "# ✅ DF 1: Admissões com CID preenchido (exclui 'SEM ALTA' e nulos)\n",
    "df_cid_preenchido_ofta_AMHM = df_producaoOFTA2[\n",
    "    (df_producaoOFTA2['CID da Alta'].notna()) & \n",
    "    (df_producaoOFTA2['CID da Alta'].str.upper() != 'SEM ALTA')\n",
    "]\n",
    "\n",
    "# ✅ DF 2: Total de admissões (sem filtro)\n",
    "df_cid_total_ofta_AMHM = df_producaoOFTA2.copy()\n",
    "\n",
    "# ✅ Agrupar DF 1: Total de admissões com CID preenchido\n",
    "agrupado_cid_ofta_AMHM = df_cid_preenchido_ofta_AMHM.groupby(\n",
    "    ['Ano', 'Mês', 'Profissional Admissão','Hospital']\n",
    ").agg(\n",
    "    adm_com_cid_ofta_AMHM=('Cód. Admissão', 'nunique')\n",
    ").reset_index()\n",
    "\n",
    "# ✅ Agrupar DF 2: Total de admissões geral\n",
    "agrupado_total_ofta_AMHM = df_cid_total_ofta_AMHM.groupby(\n",
    "    ['Ano', 'Mês', 'Profissional Admissão','Hospital']\n",
    ").agg(\n",
    "    adm_total_ofta_AMHM=('Cód. Admissão', 'nunique')\n",
    ").reset_index()\n",
    "\n",
    "# ✅ Juntar os dois DataFrames\n",
    "df_resultadoOFTA_AMHM = pd.merge(\n",
    "    agrupado_total_ofta_AMHM, \n",
    "    agrupado_cid_ofta_AMHM, \n",
    "    on=['Ano', 'Mês', 'Profissional Admissão','Hospital'], \n",
    "    how='left'\n",
    ")\n",
    "\n",
    "# ✅ Calcular percentual de admissões com CID preenchido\n",
    "df_resultadoOFTA_AMHM['% Admissões Com CID Preenchido'] = (\n",
    "    (df_resultadoOFTA_AMHM['adm_com_cid_ofta_AMHM'] / df_resultadoOFTA_AMHM['adm_total_ofta_AMHM']) * 100\n",
    ").round(2)\n",
    "\n",
    "# Renomar colunas para melhor legibilidade\n",
    "df_resultadoOFTA_AMHM = df_resultadoOFTA_AMHM.rename(columns={'adm_total_ofta_AMHM': 'Total Admissões'})\n",
    "df_resultadoOFTA_AMHM = df_resultadoOFTA_AMHM.rename(columns={'adm_com_cid_ofta_AMHM': 'Total Admissões Com CIDs Preenchidos'})\n",
    "\n",
    "# Criar coluna pegando a diferença de cids preenchidos com não preenchidos para deixar mais claro visivelmente\n",
    "df_resultadoOFTA_AMHM['% Admissões Sem CID Preenchido'] = (\n",
    "    (100 - df_resultadoOFTA_AMHM['% Admissões Com CID Preenchido'])).round(2)"
   ]
  },
  {
   "cell_type": "code",
   "execution_count": null,
   "id": "8ac18246-202a-4c58-9883-b5ad07bc6f1d",
   "metadata": {},
   "outputs": [],
   "source": [
    "df_resultadoOFTA_AMHM.head(100)"
   ]
  },
  {
   "cell_type": "markdown",
   "id": "0748ea3d-eb57-4bf7-94bd-7c843b03e8bd",
   "metadata": {},
   "source": [
    "# BAIXAR BASE / DF -> VISÃO ANO, MÊS, HOSP E MÉDICO -> HOSPITAL 4"
   ]
  },
  {
   "cell_type": "code",
   "execution_count": 115,
   "id": "455845ff-12e2-4a33-aa38-55270db98a21",
   "metadata": {},
   "outputs": [],
   "source": [
    "df_resultadoOFTA_AMHM.to_excel(r\" caminho para baixar a base resultado em excel \", index=False)"
   ]
  },
  {
   "cell_type": "markdown",
   "id": "6ccb9b51-d5b9-4624-a457-d2cc0ba29ceb",
   "metadata": {},
   "source": [
    "# VISÃO -> HOSP E MÉDICO -> HOSPITAL 4\n",
    "\n",
    "# % TOTAL DO HOSP POR MÉDICO -> HOSPITAL 4"
   ]
  },
  {
   "cell_type": "code",
   "execution_count": 116,
   "id": "deb7b7bc-2f1f-4b51-b4a5-4d9fa10656c1",
   "metadata": {},
   "outputs": [],
   "source": [
    "# ✅ DF 1: Admissões com CID preenchido (exclui 'SEM ALTA' e nulos)\n",
    "df_cid_preenchido_ofta_HM = df_producaoOFTA2[\n",
    "    (df_producaoOFTA2['CID da Alta'].notna()) & \n",
    "    (df_producaoOFTA2['CID da Alta'].str.upper() != 'SEM ALTA')\n",
    "]\n",
    "\n",
    "# ✅ DF 2: Total de admissões (sem filtro)\n",
    "df_cid_total_ofta_HM = df_producaoOFTA2.copy()\n",
    "\n",
    "# ✅ Agrupar DF 1: Total de admissões com CID preenchido\n",
    "agrupado_cid_ofta_HM = df_cid_preenchido_ofta_HM.groupby(\n",
    "    ['Profissional Admissão','Hospital']\n",
    ").agg(\n",
    "    adm_com_cid_ofta_HM=('Cód. Admissão', 'nunique')\n",
    ").reset_index()\n",
    "\n",
    "# ✅ Agrupar DF 2: Total de admissões geral\n",
    "agrupado_total_ofta_HM = df_cid_total_ofta_HM.groupby(\n",
    "    ['Profissional Admissão','Hospital']\n",
    ").agg(\n",
    "    adm_total_ofta_HM=('Cód. Admissão', 'nunique')\n",
    ").reset_index()\n",
    "\n",
    "# ✅ Juntar os dois DataFrames\n",
    "df_resultadoOFTA_HM = pd.merge(\n",
    "    agrupado_total_ofta_HM, \n",
    "    agrupado_cid_ofta_HM, \n",
    "    on=['Profissional Admissão','Hospital'], \n",
    "    how='left'\n",
    ")\n",
    "\n",
    "# ✅ Calcular percentual de admissões com CID preenchido\n",
    "df_resultadoOFTA_HM['% Admissões Com CID Preenchido'] = (\n",
    "    (df_resultadoOFTA_HM['adm_com_cid_ofta_HM'] / df_resultadoOFTA_HM['adm_total_ofta_HM']) * 100\n",
    ").round(2)\n",
    "\n",
    "# Renomar colunas para melhor legibilidade\n",
    "df_resultadoOFTA_HM = df_resultadoOFTA_HM.rename(columns={'adm_total_ofta_HM': 'Total Admissões'})\n",
    "df_resultadoOFTA_HM = df_resultadoOFTA_HM.rename(columns={'adm_com_cid_ofta_HM': 'Total Admissões Com CIDs Preenchidos'})\n",
    "\n",
    "# Criar coluna pegando a diferença de cids preenchidos com não preenchidos para deixar mais claro visivelmente\n",
    "df_resultadoOFTA_HM['% Admissões Sem CID Preenchido'] = (\n",
    "    (100 - df_resultadoOFTA_HM['% Admissões Com CID Preenchido'])).round(2)"
   ]
  },
  {
   "cell_type": "code",
   "execution_count": null,
   "id": "e7671d7d-06a5-4a9a-ba05-96c68c7219f9",
   "metadata": {},
   "outputs": [],
   "source": [
    "df_resultadoOFTA_HM.head(100)"
   ]
  },
  {
   "cell_type": "markdown",
   "id": "b143a3fc-e08f-458d-82f7-9387fd76195c",
   "metadata": {},
   "source": [
    "# BAIXAR BASE / DF -> VISÃO HOSP E MÉDICO -> HOSPITAL 4"
   ]
  },
  {
   "cell_type": "code",
   "execution_count": 118,
   "id": "93dd4e9e-e00b-4b4c-8a19-43a2156c8632",
   "metadata": {},
   "outputs": [],
   "source": [
    "df_resultadoOFTA_HM.to_excel(r\" caminho para baixar a base resultado em excel \", index=False)"
   ]
  },
  {
   "cell_type": "markdown",
   "id": "37015f63-2e60-4720-8bc8-44f20309c726",
   "metadata": {},
   "source": [
    "# ///////////////////////////////////////////////////////////////////////////////////////////"
   ]
  },
  {
   "cell_type": "markdown",
   "id": "3e7a1d4a-41e0-41a2-8c04-c50e4db23fb7",
   "metadata": {},
   "source": [
    "# ///////////////////////////////////////////////////////////////////////////////////////////"
   ]
  },
  {
   "cell_type": "markdown",
   "id": "c5053b38-c107-41c8-accf-bff25eb70fd7",
   "metadata": {},
   "source": [
    "# ///////////////////////////////////////////////////////////////////////////////////////////"
   ]
  },
  {
   "cell_type": "markdown",
   "id": "a93e85ff-0a99-44a0-bb2c-27f08f53ffd7",
   "metadata": {},
   "source": [
    "# HOSPITAL 5"
   ]
  },
  {
   "cell_type": "code",
   "execution_count": 119,
   "id": "7d1ce8ca-261f-4a9b-b2eb-5ff381ceb7f7",
   "metadata": {},
   "outputs": [
    {
     "name": "stderr",
     "output_type": "stream",
     "text": [
      "C:\\Users\\HenriquedaLuzPacheco\\anaconda3\\Lib\\site-packages\\openpyxl\\styles\\stylesheet.py:237: UserWarning: Workbook contains no default style, apply openpyxl's default\n",
      "  warn(\"Workbook contains no default style, apply openpyxl's default\")\n",
      "C:\\Users\\HenriquedaLuzPacheco\\anaconda3\\Lib\\site-packages\\openpyxl\\styles\\stylesheet.py:237: UserWarning: Workbook contains no default style, apply openpyxl's default\n",
      "  warn(\"Workbook contains no default style, apply openpyxl's default\")\n"
     ]
    }
   ],
   "source": [
    "# PRODUÇÃO GERAL\n",
    "\n",
    "# Especificar o caminho da pasta\n",
    "folder_path = r\" caminho da pasta para leitura de bases / arquivos excel e csv \"\n",
    "\n",
    "# Inicializar um DataFrame vazio\n",
    "df_producaoHOSL = pd.DataFrame()\n",
    "\n",
    "# Loop através de todos os arquivos na pasta\n",
    "for file_name in os.listdir(folder_path):\n",
    "    file_path = os.path.join(folder_path, file_name)\n",
    "    try:\n",
    "        if file_name.endswith(('.xlsx', '.xls')):\n",
    "            # Ler arquivo Excel\n",
    "            df_temp = pd.read_excel(file_path)\n",
    "        elif file_name.endswith('.csv'):\n",
    "            # Tentar detectar automaticamente o delimitador\n",
    "            df_temp = pd.read_csv(file_path, sep=None, engine='python')\n",
    "        else:\n",
    "            # Pular arquivos que não sejam Excel ou CSV\n",
    "            continue\n",
    "        \n",
    "        # Concatenar os dados lidos com o DataFrame principal\n",
    "        df_producaoHOSL = pd.concat([df_producaoHOSL, df_temp], ignore_index=True)\n",
    "    except Exception as e:\n",
    "        print(f\"Erro ao processar o arquivo {file_name}: {e}\")\n",
    "\n",
    "df_producaoHOSL = df_producaoHOSL.drop_duplicates()\n",
    "df_producaoHOSL['Cód. Paciente'] = df_producaoHOSL['Cód. Paciente'].astype(str)\n",
    "df_producaoHOSL['Cód. Paciente'] = df_producaoHOSL['Cód. Paciente'].str.rstrip('.0')\n",
    "\n",
    "df_producaoHOSL['Cód. Admissão'] = df_producaoHOSL['Cód. Admissão'].astype(str)\n",
    "df_producaoHOSL['Cód. Admissão'] = df_producaoHOSL['Cód. Admissão'].str.rstrip('.0')"
   ]
  },
  {
   "cell_type": "code",
   "execution_count": null,
   "id": "b5f34bea-721f-4c6e-8933-495e428fb5d7",
   "metadata": {},
   "outputs": [],
   "source": [
    "df_producaoHOSL.head(100)"
   ]
  },
  {
   "cell_type": "code",
   "execution_count": 121,
   "id": "6aa9cbb6-cf53-4b18-ae69-9fcbfbefc9e6",
   "metadata": {},
   "outputs": [
    {
     "data": {
      "text/plain": [
       "353835"
      ]
     },
     "execution_count": 121,
     "metadata": {},
     "output_type": "execute_result"
    }
   ],
   "source": [
    "df_producaoHOSL['Cód. Admissão'].nunique()"
   ]
  },
  {
   "cell_type": "markdown",
   "id": "aaca49bd-083c-41c9-98b2-e6ce7207be28",
   "metadata": {},
   "source": [
    "# TRATAR / FILTRAR DADOS -> HOSPITAL 5"
   ]
  },
  {
   "cell_type": "code",
   "execution_count": 122,
   "id": "b2996264-3ccd-498d-a97d-d7fb526937b4",
   "metadata": {},
   "outputs": [
    {
     "data": {
      "text/plain": [
       "Index(['Ano', 'Mês', 'Cód. Admissão', 'Data Admissão', 'Hora Admissão',\n",
       "       'Categoria', 'Subcategoria', 'Profissional Solicitante',\n",
       "       'Profissional Admissão', 'Médico Externo', 'Classificação Produto',\n",
       "       'CID da Alta', 'Tipo Recebimento', 'Convênio', 'Plano',\n",
       "       'Perfil Particular', 'Procedimento Principal', 'Produto Lançamento',\n",
       "       'Cód. Apresentação', 'Unidade', 'Especialidade', 'Caráter Admissão',\n",
       "       'Tipo Paciente', 'Observação Admissão', 'Tipo Produto', 'Pacote',\n",
       "       'Cód. Paciente', 'Paciente', 'Data Nascimento', 'Idade', 'Faixa Etária',\n",
       "       'Destino', 'Qtd. Produzida', 'Valor Produzido', 'Solicitante', 'Médico',\n",
       "       'Cirurgião', 'Origem Recebimento'],\n",
       "      dtype='object')"
      ]
     },
     "execution_count": 122,
     "metadata": {},
     "output_type": "execute_result"
    }
   ],
   "source": [
    "df_producaoHOSL.columns"
   ]
  },
  {
   "cell_type": "code",
   "execution_count": 123,
   "id": "e944aa7e-b934-40da-b42b-83d81c6b3162",
   "metadata": {},
   "outputs": [],
   "source": [
    "df_producaoHOSL2 = df_producaoHOSL.copy()"
   ]
  },
  {
   "cell_type": "code",
   "execution_count": 124,
   "id": "ea56abd6-67db-4ec5-9687-637a77944e20",
   "metadata": {},
   "outputs": [],
   "source": [
    "# TIRAR COLUNAS QUE NÃO VÃO SER UTILIZADAS\n",
    "df_producaoHOSL2 = df_producaoHOSL2[['Cód. Paciente', 'Cód. Admissão', 'Ano', 'Mês', 'Médico', 'Unidade', 'CID da Alta']]\n",
    "\n",
    "# RENOMAR COLUNA DE UNIDADE PARA NOME ÚNICO DO HOSPITAL\n",
    "df_producaoHOSL2 = df_producaoHOSL2.rename(columns={'Unidade': 'Hospital'})\n",
    "df_producaoHOSL2['Hospital'] = 'HOSPITAL 5'"
   ]
  },
  {
   "cell_type": "code",
   "execution_count": null,
   "id": "dd3b4082-cfeb-46eb-ac23-ee5e5ed0c209",
   "metadata": {},
   "outputs": [],
   "source": [
    "df_producaoHOSL2.head(100)"
   ]
  },
  {
   "cell_type": "markdown",
   "id": "5c32cf16-9c41-4ca9-acde-06c636a3c08b",
   "metadata": {},
   "source": [
    "# VISÃO -> ANO, MÊS, HOSP -> HOSPITAL 5\n",
    "\n",
    "# % TOTAL DO HOSP NO TEMPO -> HOSPITAL 5"
   ]
  },
  {
   "cell_type": "code",
   "execution_count": 126,
   "id": "f3030759-5f44-4c4c-bb7b-f12c0ee6a2c9",
   "metadata": {},
   "outputs": [],
   "source": [
    "# ✅ DF 1: Admissões com CID preenchido (exclui 'SEM ALTA' e nulos)\n",
    "df_cid_preenchido_hosl_AMH = df_producaoHOSL2[\n",
    "    (df_producaoHOSL2['CID da Alta'].notna()) & \n",
    "    (df_producaoHOSL2['CID da Alta'].str.upper() != 'SEM ALTA')\n",
    "]\n",
    "\n",
    "# ✅ DF 2: Total de admissões (sem filtro)\n",
    "df_cid_total_hosl_AMH = df_producaoHOSL2.copy()\n",
    "\n",
    "# ✅ Agrupar DF 1: Total de admissões com CID preenchido\n",
    "agrupado_cid_hosl_AMH = df_cid_preenchido_hosl_AMH.groupby(\n",
    "    ['Ano', 'Mês', 'Hospital']\n",
    ").agg(\n",
    "    adm_com_cid_hosl_AMH=('Cód. Admissão', 'nunique')\n",
    ").reset_index()\n",
    "\n",
    "# ✅ Agrupar DF 2: Total de admissões geral\n",
    "agrupado_total_hosl_AMH = df_cid_total_hosl_AMH.groupby(\n",
    "    ['Ano', 'Mês', 'Hospital']\n",
    ").agg(\n",
    "    adm_total_hosl_AMH=('Cód. Admissão', 'nunique')\n",
    ").reset_index()\n",
    "\n",
    "# ✅ Juntar os dois DataFrames\n",
    "df_resultadoHOSL_AMH = pd.merge(\n",
    "    agrupado_total_hosl_AMH, \n",
    "    agrupado_cid_hosl_AMH, \n",
    "    on=['Ano', 'Mês', 'Hospital'], \n",
    "    how='left'\n",
    ")\n",
    "\n",
    "# ✅ Calcular percentual de admissões com CID preenchido\n",
    "df_resultadoHOSL_AMH['% Admissões Com CID Preenchido'] = (\n",
    "    (df_resultadoHOSL_AMH['adm_com_cid_hosl_AMH'] / df_resultadoHOSL_AMH['adm_total_hosl_AMH']) * 100\n",
    ").round(2)\n",
    "\n",
    "# Renomar colunas para melhor legibilidade\n",
    "df_resultadoHOSL_AMH = df_resultadoHOSL_AMH.rename(columns={'adm_total_hosl_AMH': 'Total Admissões'})\n",
    "df_resultadoHOSL_AMH = df_resultadoHOSL_AMH.rename(columns={'adm_com_cid_hosl_AMH': 'Total Admissões Com CIDs Preenchidos'})\n",
    "\n",
    "# Criar coluna pegando a diferença de cids preenchidos com não preenchidos para deixar mais claro visivelmente\n",
    "df_resultadoHOSL_AMH['% Admissões Sem CID Preenchido'] = (\n",
    "    (100 - df_resultadoHOSL_AMH['% Admissões Com CID Preenchido'])).round(2)"
   ]
  },
  {
   "cell_type": "code",
   "execution_count": null,
   "id": "8ff1845f-5be8-4121-8210-65431c6b4454",
   "metadata": {},
   "outputs": [],
   "source": [
    "df_resultadoHOSL_AMH.head(100)"
   ]
  },
  {
   "cell_type": "markdown",
   "id": "d23dd8c2-9ed8-4d4c-9b76-faabbf6003e3",
   "metadata": {},
   "source": [
    "# BAIXAR BASE / DF -> VISÃO ANO, MÊS, HOSP -> HOSPITAL 5"
   ]
  },
  {
   "cell_type": "code",
   "execution_count": 128,
   "id": "25b30c68-b55f-4e6b-9ea5-56e2db8883fe",
   "metadata": {},
   "outputs": [],
   "source": [
    "df_resultadoHOSL_AMH.to_excel(r\" caminho para baixar a base resultado em excel \", index=False)"
   ]
  },
  {
   "cell_type": "markdown",
   "id": "b96b4487-6e66-4158-9911-f6a42a818274",
   "metadata": {},
   "source": [
    "# VISÃO -> HOSP -> HOSPITAL 5\n",
    "\n",
    "# % TOTAL DO HOSP -> HOSPITAL 5"
   ]
  },
  {
   "cell_type": "code",
   "execution_count": 129,
   "id": "e019485d-a097-4208-8d07-6c7e47fb91c3",
   "metadata": {},
   "outputs": [],
   "source": [
    "# ✅ DF 1: Admissões com CID preenchido (exclui 'SEM ALTA' e nulos)\n",
    "df_cid_preenchido_hosl_H = df_producaoHOSL2[\n",
    "    (df_producaoHOSL2['CID da Alta'].notna()) & \n",
    "    (df_producaoHOSL2['CID da Alta'].str.upper() != 'SEM ALTA')\n",
    "]\n",
    "\n",
    "# ✅ DF 2: Total de admissões (sem filtro)\n",
    "df_cid_total_hosl_H = df_producaoHOSL2.copy()\n",
    "\n",
    "# ✅ Agrupar DF 1: Total de admissões com CID preenchido\n",
    "agrupado_cid_hosl_H = df_cid_preenchido_hosl_H.groupby(\n",
    "    ['Hospital']\n",
    ").agg(\n",
    "    adm_com_cid_hosl_H=('Cód. Admissão', 'nunique')\n",
    ").reset_index()\n",
    "\n",
    "# ✅ Agrupar DF 2: Total de admissões geral\n",
    "agrupado_total_hosl_H = df_cid_total_hosl_H.groupby(\n",
    "    ['Hospital']\n",
    ").agg(\n",
    "    adm_total_hosl_H=('Cód. Admissão', 'nunique')\n",
    ").reset_index()\n",
    "\n",
    "# ✅ Juntar os dois DataFrames\n",
    "df_resultadoHOSL_H = pd.merge(\n",
    "    agrupado_total_hosl_H, \n",
    "    agrupado_cid_hosl_H, \n",
    "    on=['Hospital'], \n",
    "    how='left'\n",
    ")\n",
    "\n",
    "# ✅ Calcular percentual de admissões com CID preenchido\n",
    "df_resultadoHOSL_H['% Admissões Com CID Preenchido'] = (\n",
    "    (df_resultadoHOSL_H['adm_com_cid_hosl_H'] / df_resultadoHOSL_H['adm_total_hosl_H']) * 100\n",
    ").round(2)\n",
    "\n",
    "# Renomar colunas para melhor legibilidade\n",
    "df_resultadoHOSL_H = df_resultadoHOSL_H.rename(columns={'adm_total_hosl_H': 'Total Admissões'})\n",
    "df_resultadoHOSL_H = df_resultadoHOSL_H.rename(columns={'adm_total_hosl_H': 'Total Admissões Com CIDs Preenchidos'})\n",
    "\n",
    "# Criar coluna pegando a diferença de cids preenchidos com não preenchidos para deixar mais claro visivelmente\n",
    "df_resultadoHOSL_H['% Admissões Sem CID Preenchido'] = (\n",
    "    (100 - df_resultadoHOSL_H['% Admissões Com CID Preenchido'])).round(2)"
   ]
  },
  {
   "cell_type": "code",
   "execution_count": null,
   "id": "383ffb07-7b4a-4cf0-8ddf-327253122942",
   "metadata": {},
   "outputs": [],
   "source": [
    "df_resultadoHOSL_H.head(100)"
   ]
  },
  {
   "cell_type": "markdown",
   "id": "5586cfd8-30e7-4f14-8825-c06eb3d2e14e",
   "metadata": {},
   "source": [
    "# BAIXAR BASE / DF -> VISÃO HOSP -> HOSPITAL 5"
   ]
  },
  {
   "cell_type": "code",
   "execution_count": 131,
   "id": "db98e1ac-528c-4db6-8a80-196ee78029da",
   "metadata": {},
   "outputs": [],
   "source": [
    "df_resultadoHOSL_H.to_excel(r\" caminho para baixar a base resultado em excel \", index=False)"
   ]
  },
  {
   "cell_type": "markdown",
   "id": "6d4a6417-d860-462f-88a6-a9d918e691fd",
   "metadata": {},
   "source": [
    "# VISÃO -> ANO, MÊS, HOSP E MÉDICO -> HOSPITAL 5\n",
    "\n",
    "# % TOTAL DO HOSP NO TEMPO POR MÉDICO -> HOSPITAL 5"
   ]
  },
  {
   "cell_type": "code",
   "execution_count": 132,
   "id": "fd19a6d4-ba5b-4f9c-affb-043200a0fa11",
   "metadata": {},
   "outputs": [],
   "source": [
    "# ✅ DF 1: Admissões com CID preenchido (exclui 'SEM ALTA' e nulos)\n",
    "df_cid_preenchido_hosl_AMHM = df_producaoHOSL2[\n",
    "    (df_producaoHOSL2['CID da Alta'].notna()) & \n",
    "    (df_producaoHOSL2['CID da Alta'].str.upper() != 'SEM ALTA')\n",
    "]\n",
    "\n",
    "# ✅ DF 2: Total de admissões (sem filtro)\n",
    "df_cid_total_hosl_AMHM = df_producaoHOSL2.copy()\n",
    "\n",
    "# ✅ Agrupar DF 1: Total de admissões com CID preenchido\n",
    "agrupado_cid_hosl_AMHM = df_cid_preenchido_hosl_AMHM.groupby(\n",
    "    ['Ano', 'Mês', 'Médico','Hospital']\n",
    ").agg(\n",
    "    adm_com_cid_hosl_AMHM=('Cód. Admissão', 'nunique')\n",
    ").reset_index()\n",
    "\n",
    "# ✅ Agrupar DF 2: Total de admissões geral\n",
    "agrupado_total_hosl_AMHM = df_cid_total_hosl_AMHM.groupby(\n",
    "    ['Ano', 'Mês', 'Médico','Hospital']\n",
    ").agg(\n",
    "    adm_total_hosl_AMHM=('Cód. Admissão', 'nunique')\n",
    ").reset_index()\n",
    "\n",
    "# ✅ Juntar os dois DataFrames\n",
    "df_resultadoHOSL_AMHM = pd.merge(\n",
    "    agrupado_total_hosl_AMHM, \n",
    "    agrupado_cid_hosl_AMHM, \n",
    "    on=['Ano', 'Mês', 'Médico','Hospital'], \n",
    "    how='left'\n",
    ")\n",
    "\n",
    "# ✅ Calcular percentual de admissões com CID preenchido\n",
    "df_resultadoHOSL_AMHM['% Admissões Com CID Preenchido'] = (\n",
    "    (df_resultadoHOSL_AMHM['adm_com_cid_hosl_AMHM'] / df_resultadoHOSL_AMHM['adm_total_hosl_AMHM']) * 100\n",
    ").round(2)\n",
    "\n",
    "# Renomar colunas para melhor legibilidade\n",
    "df_resultadoHOSL_AMHM = df_resultadoHOSL_AMHM.rename(columns={'adm_total_hosl_AMHM': 'Total Admissões'})\n",
    "df_resultadoHOSL_AMHM = df_resultadoHOSL_AMHM.rename(columns={'adm_com_cid_hosl_AMHM': 'Total Admissões Com CIDs Preenchidos'})\n",
    "\n",
    "# Criar coluna pegando a diferença de cids preenchidos com não preenchidos para deixar mais claro visivelmente\n",
    "df_resultadoHOSL_AMHM['% Admissões Sem CID Preenchido'] = (\n",
    "    (100 - df_resultadoHOSL_AMHM['% Admissões Com CID Preenchido'])).round(2)"
   ]
  },
  {
   "cell_type": "code",
   "execution_count": null,
   "id": "b708948b-f984-42db-8d45-55bdd3783a90",
   "metadata": {},
   "outputs": [],
   "source": [
    "df_resultadoHOSL_AMHM.head(100)"
   ]
  },
  {
   "cell_type": "markdown",
   "id": "63362e16-4cc9-449f-8458-8ce0ce373d95",
   "metadata": {},
   "source": [
    "# BAIXAR BASE / DF -> VISÃO ANO, MÊS, HOSP E MÉDICO -> HOSPITAL 5"
   ]
  },
  {
   "cell_type": "code",
   "execution_count": 134,
   "id": "742184ca-2aae-47be-8cb2-3300b416da5a",
   "metadata": {},
   "outputs": [],
   "source": [
    "df_resultadoHOSL_AMHM.to_excel(r\" caminho para baixar a base resultado em excel \", index=False)"
   ]
  },
  {
   "cell_type": "markdown",
   "id": "b618331a-a36b-421f-9245-9bc934134946",
   "metadata": {},
   "source": [
    "# VISÃO -> HOSP E MÉDICO -> HOSPITAL 5\n",
    "\n",
    "# % TOTAL DO HOSP POR MÉDICO -> HOSPITAL 5"
   ]
  },
  {
   "cell_type": "code",
   "execution_count": 135,
   "id": "c6f7c0cc-af6e-4094-89a0-f53d9a35931a",
   "metadata": {},
   "outputs": [],
   "source": [
    "# ✅ DF 1: Admissões com CID preenchido (exclui 'SEM ALTA' e nulos)\n",
    "df_cid_preenchido_hosl_HM = df_producaoHOSL2[\n",
    "    (df_producaoHOSL2['CID da Alta'].notna()) & \n",
    "    (df_producaoHOSL2['CID da Alta'].str.upper() != 'SEM ALTA')\n",
    "]\n",
    "\n",
    "# ✅ DF 2: Total de admissões (sem filtro)\n",
    "df_cid_total_hosl_HM = df_producaoHOSL2.copy()\n",
    "\n",
    "# ✅ Agrupar DF 1: Total de admissões com CID preenchido\n",
    "agrupado_cid_hosl_HM = df_cid_preenchido_hosl_HM.groupby(\n",
    "    ['Médico','Hospital']\n",
    ").agg(\n",
    "    adm_com_cid_hosl_HM=('Cód. Admissão', 'nunique')\n",
    ").reset_index()\n",
    "\n",
    "# ✅ Agrupar DF 2: Total de admissões geral\n",
    "agrupado_total_hosl_HM = df_cid_total_hosl_HM.groupby(\n",
    "    ['Médico','Hospital']\n",
    ").agg(\n",
    "    adm_total_hosl_HM=('Cód. Admissão', 'nunique')\n",
    ").reset_index()\n",
    "\n",
    "# ✅ Juntar os dois DataFrames\n",
    "df_resultadoHOSL_HM = pd.merge(\n",
    "    agrupado_total_hosl_HM, \n",
    "    agrupado_cid_hosl_HM, \n",
    "    on=['Médico','Hospital'], \n",
    "    how='left'\n",
    ")\n",
    "\n",
    "# ✅ Calcular percentual de admissões com CID preenchido\n",
    "df_resultadoHOSL_HM['% Admissões Com CID Preenchido'] = (\n",
    "    (df_resultadoHOSL_HM['adm_com_cid_hosl_HM'] / df_resultadoHOSL_HM['adm_total_hosl_HM']) * 100\n",
    ").round(2)\n",
    "\n",
    "# Renomar colunas para melhor legibilidade\n",
    "df_resultadoHOSL_HM = df_resultadoHOSL_HM.rename(columns={'adm_total_hosl_HM': 'Total Admissões'})\n",
    "df_resultadoHOSL_HM = df_resultadoHOSL_HM.rename(columns={'adm_com_cid_hosl_HM': 'Total Admissões Com CIDs Preenchidos'})\n",
    "\n",
    "# Criar coluna pegando a diferença de cids preenchidos com não preenchidos para deixar mais claro visivelmente\n",
    "df_resultadoHOSL_HM['% Admissões Sem CID Preenchido'] = (\n",
    "    (100 - df_resultadoHOSL_HM['% Admissões Com CID Preenchido'])).round(2)"
   ]
  },
  {
   "cell_type": "code",
   "execution_count": null,
   "id": "63caf5f9-b35e-4edf-9be9-819490027ad2",
   "metadata": {},
   "outputs": [],
   "source": [
    "df_resultadoHOSL_HM.head(100)"
   ]
  },
  {
   "cell_type": "markdown",
   "id": "d244f8ce-2139-46cc-b5a8-4c683e636bec",
   "metadata": {},
   "source": [
    "# BAIXAR BASE / DF -> VISÃO HOSP E MÉDICO -> HOSPITAL 5"
   ]
  },
  {
   "cell_type": "code",
   "execution_count": 137,
   "id": "4cb92e5b-b2c3-43bc-882a-b66c5667841a",
   "metadata": {},
   "outputs": [],
   "source": [
    "df_resultadoHOSL_HM.to_excel(r\" caminho para baixar a base resultado em excel \", index=False)"
   ]
  },
  {
   "cell_type": "markdown",
   "id": "467ee26e-3eca-4fc5-a239-c5c9eeb80599",
   "metadata": {},
   "source": [
    "# ///////////////////////////////////////////////////////////////////////////////////////////"
   ]
  },
  {
   "cell_type": "markdown",
   "id": "7ac481b1-d2ac-4d5c-ba4f-43aef8395816",
   "metadata": {},
   "source": [
    "# ///////////////////////////////////////////////////////////////////////////////////////////"
   ]
  },
  {
   "cell_type": "markdown",
   "id": "f384b366-1fac-4dd2-ac90-9056d9183305",
   "metadata": {},
   "source": [
    "# ///////////////////////////////////////////////////////////////////////////////////////////"
   ]
  },
  {
   "cell_type": "markdown",
   "id": "6226e47b-8a36-49c8-8c9c-a23720cdf3d7",
   "metadata": {},
   "source": [
    "# HOSPITAL 6"
   ]
  },
  {
   "cell_type": "code",
   "execution_count": 138,
   "id": "d2525c5f-c79d-4473-affe-06669a9be768",
   "metadata": {},
   "outputs": [
    {
     "name": "stderr",
     "output_type": "stream",
     "text": [
      "C:\\Users\\HenriquedaLuzPacheco\\anaconda3\\Lib\\site-packages\\openpyxl\\styles\\stylesheet.py:237: UserWarning: Workbook contains no default style, apply openpyxl's default\n",
      "  warn(\"Workbook contains no default style, apply openpyxl's default\")\n",
      "C:\\Users\\HenriquedaLuzPacheco\\anaconda3\\Lib\\site-packages\\openpyxl\\styles\\stylesheet.py:237: UserWarning: Workbook contains no default style, apply openpyxl's default\n",
      "  warn(\"Workbook contains no default style, apply openpyxl's default\")\n",
      "C:\\Users\\HenriquedaLuzPacheco\\anaconda3\\Lib\\site-packages\\openpyxl\\styles\\stylesheet.py:237: UserWarning: Workbook contains no default style, apply openpyxl's default\n",
      "  warn(\"Workbook contains no default style, apply openpyxl's default\")\n",
      "C:\\Users\\HenriquedaLuzPacheco\\anaconda3\\Lib\\site-packages\\openpyxl\\styles\\stylesheet.py:237: UserWarning: Workbook contains no default style, apply openpyxl's default\n",
      "  warn(\"Workbook contains no default style, apply openpyxl's default\")\n",
      "C:\\Users\\HenriquedaLuzPacheco\\anaconda3\\Lib\\site-packages\\openpyxl\\styles\\stylesheet.py:237: UserWarning: Workbook contains no default style, apply openpyxl's default\n",
      "  warn(\"Workbook contains no default style, apply openpyxl's default\")\n",
      "C:\\Users\\HenriquedaLuzPacheco\\anaconda3\\Lib\\site-packages\\openpyxl\\styles\\stylesheet.py:237: UserWarning: Workbook contains no default style, apply openpyxl's default\n",
      "  warn(\"Workbook contains no default style, apply openpyxl's default\")\n",
      "C:\\Users\\HenriquedaLuzPacheco\\anaconda3\\Lib\\site-packages\\openpyxl\\styles\\stylesheet.py:237: UserWarning: Workbook contains no default style, apply openpyxl's default\n",
      "  warn(\"Workbook contains no default style, apply openpyxl's default\")\n",
      "C:\\Users\\HenriquedaLuzPacheco\\anaconda3\\Lib\\site-packages\\openpyxl\\styles\\stylesheet.py:237: UserWarning: Workbook contains no default style, apply openpyxl's default\n",
      "  warn(\"Workbook contains no default style, apply openpyxl's default\")\n",
      "C:\\Users\\HenriquedaLuzPacheco\\anaconda3\\Lib\\site-packages\\openpyxl\\styles\\stylesheet.py:237: UserWarning: Workbook contains no default style, apply openpyxl's default\n",
      "  warn(\"Workbook contains no default style, apply openpyxl's default\")\n"
     ]
    }
   ],
   "source": [
    "# PRODUÇÃO GERAL\n",
    "\n",
    "# Especificar o caminho da pasta\n",
    "folder_path = r\" caminho da pasta para leitura de bases / arquivos excel e csv \"\n",
    "\n",
    "# Inicializar um DataFrame vazio\n",
    "df_producaoHOLHOS = pd.DataFrame()\n",
    "\n",
    "# Loop através de todos os arquivos na pasta\n",
    "for file_name in os.listdir(folder_path):\n",
    "    file_path = os.path.join(folder_path, file_name)\n",
    "    try:\n",
    "        if file_name.endswith(('.xlsx', '.xls')):\n",
    "            # Ler arquivo Excel\n",
    "            df_temp = pd.read_excel(file_path)\n",
    "        elif file_name.endswith('.csv'):\n",
    "            # Tentar detectar automaticamente o delimitador\n",
    "            df_temp = pd.read_csv(file_path, sep=None, engine='python')\n",
    "        else:\n",
    "            # Pular arquivos que não sejam Excel ou CSV\n",
    "            continue\n",
    "        \n",
    "        # Concatenar os dados lidos com o DataFrame principal\n",
    "        df_producaoHOLHOS = pd.concat([df_producaoHOLHOS, df_temp], ignore_index=True)\n",
    "    except Exception as e:\n",
    "        print(f\"Erro ao processar o arquivo {file_name}: {e}\")\n",
    "\n",
    "df_producaoHOLHOS = df_producaoHOLHOS.drop_duplicates()\n",
    "df_producaoHOLHOS['Cód. Paciente'] = df_producaoHOLHOS['Cód. Paciente'].astype(str)\n",
    "df_producaoHOLHOS['Cód. Paciente'] = df_producaoHOLHOS['Cód. Paciente'].str.rstrip('.0')\n",
    "\n",
    "df_producaoHOLHOS['Cód. Admissão'] = df_producaoHOLHOS['Cód. Admissão'].astype(str)\n",
    "df_producaoHOLHOS['Cód. Admissão'] = df_producaoHOLHOS['Cód. Admissão'].str.rstrip('.0')\n",
    "\n",
    "\n",
    "# CORRIGIR / UNIFICAR COLUNAS DE ANO e MÊS\n",
    "\n",
    "# Preencher nulos de 'Ano' com valores de 'Data - Ano'\n",
    "df_producaoHOLHOS['Ano'] = df_producaoHOLHOS['Ano'].fillna(df_producaoHOLHOS['Data - Ano'])\n",
    "\n",
    "# Preencher nulos de 'Mês' com valores de 'Data - Mês'\n",
    "df_producaoHOLHOS['Mês'] = df_producaoHOLHOS['Mês'].fillna(df_producaoHOLHOS['Data - Mês'])\n",
    "\n",
    "# Remover linhas onde o valor de 'Ano' não é número\n",
    "df_producaoHOLHOS = df_producaoHOLHOS[df_producaoHOLHOS['Ano'].astype(str).str.isnumeric()]\n",
    "\n",
    "# Agora converter o tipo\n",
    "df_producaoHOLHOS['Ano'] = df_producaoHOLHOS['Ano'].astype(int)\n",
    "\n",
    "# Se quiser garantir que Mês seja texto\n",
    "df_producaoHOLHOS['Mês'] = df_producaoHOLHOS['Mês'].astype(str)\n",
    "\n",
    "# Remover colunas auxiliares\n",
    "df_producaoHOLHOS.drop(columns=['Data - Ano', 'Data - Mês'], inplace=True)"
   ]
  },
  {
   "cell_type": "code",
   "execution_count": null,
   "id": "b56e5680-9d40-49ca-87e6-53f8bd043820",
   "metadata": {},
   "outputs": [],
   "source": [
    "df_producaoHOLHOS.head(100)"
   ]
  },
  {
   "cell_type": "code",
   "execution_count": 148,
   "id": "05269ea8-9fc1-456f-8655-2640674a04f4",
   "metadata": {},
   "outputs": [
    {
     "data": {
      "text/plain": [
       "1441107"
      ]
     },
     "execution_count": 148,
     "metadata": {},
     "output_type": "execute_result"
    }
   ],
   "source": [
    "df_producaoHOLHOS['Cód. Admissão'].nunique()"
   ]
  },
  {
   "cell_type": "markdown",
   "id": "2fa95fa6-6243-4030-b7be-21d47a6e2dcd",
   "metadata": {},
   "source": [
    "# TRATAR / FILTRAR DADOS -> HOSPITAL 6"
   ]
  },
  {
   "cell_type": "code",
   "execution_count": 149,
   "id": "9c48ab84-2e6f-4307-8160-d9822eb607dc",
   "metadata": {},
   "outputs": [
    {
     "data": {
      "text/plain": [
       "Index(['Cód. Admissão', 'Data Admissão', 'Hora Admissão', 'Categoria',\n",
       "       'Subcategoria', 'Profissional Solicitante', 'Profissional Admissão',\n",
       "       'Médico Externo', 'Classificação Produto', 'CID da Alta',\n",
       "       'Tipo Recebimento', 'Origem Recebimento', 'Plano',\n",
       "       'Procedimento Principal', 'Produto Lançamento', 'Cód. Apresentação',\n",
       "       'Unidade', 'Especialidade', 'Caráter Admissão', 'Tipo Paciente',\n",
       "       'Observação Admissão', 'Tipo Produto', 'Pacote', 'Cód. Paciente',\n",
       "       'Paciente', 'Data Nascimento', 'Idade', 'Faixa Etária', 'Solicitante',\n",
       "       'Médico', 'Cirurgião', 'Destino', 'Qtd. Produzida', 'Valor Produzido',\n",
       "       'Ano', 'Mês', 'Convênio', 'Perfil Particular', 'Grupo Hospitalar'],\n",
       "      dtype='object')"
      ]
     },
     "execution_count": 149,
     "metadata": {},
     "output_type": "execute_result"
    }
   ],
   "source": [
    "df_producaoHOLHOS.columns"
   ]
  },
  {
   "cell_type": "code",
   "execution_count": 150,
   "id": "9ea7a611-1b3d-4f82-893b-8fecfd677d58",
   "metadata": {},
   "outputs": [],
   "source": [
    "df_producaoHOLHOS2 = df_producaoHOLHOS.copy()"
   ]
  },
  {
   "cell_type": "code",
   "execution_count": 151,
   "id": "522bcfc1-ede3-47ed-b757-516b27bb8cdd",
   "metadata": {},
   "outputs": [],
   "source": [
    "# TIRAR COLUNAS QUE NÃO VÃO SER UTILIZADAS\n",
    "df_producaoHOLHOS2 = df_producaoHOLHOS2[['Cód. Paciente', 'Cód. Admissão', 'Ano', 'Mês', 'Médico', 'Unidade', 'CID da Alta']]\n",
    "\n",
    "# RENOMAR COLUNA DE UNIDADE PARA NOME ÚNICO DO HOSPITAL\n",
    "df_producaoHOLHOS2 = df_producaoHOLHOS2.rename(columns={'Unidade': 'Hospital'})\n",
    "df_producaoHOLHOS2['Hospital'] = 'HOSPITAL 6'"
   ]
  },
  {
   "cell_type": "code",
   "execution_count": null,
   "id": "41fd0f86-44c4-4d74-b71b-e26b919df5e5",
   "metadata": {},
   "outputs": [],
   "source": [
    "df_producaoHOLHOS2.head(100)"
   ]
  },
  {
   "cell_type": "markdown",
   "id": "a7dbda88-c885-4fc7-a513-5c29dc0d4a0b",
   "metadata": {},
   "source": [
    "# VISÃO -> ANO, MÊS, HOSP -> HOSPITAL 6\n",
    "\n",
    "# % TOTAL DO HOSP NO TEMPO -> HOSPITAL 6"
   ]
  },
  {
   "cell_type": "code",
   "execution_count": 153,
   "id": "aa6312ca-1178-4083-8e17-56e7c211faf8",
   "metadata": {},
   "outputs": [],
   "source": [
    "# ✅ DF 1: Admissões com CID preenchido (exclui 'SEM ALTA' e nulos)\n",
    "df_cid_preenchido_holhos_AMH = df_producaoHOLHOS2[\n",
    "    (df_producaoHOLHOS2['CID da Alta'].notna()) & \n",
    "    (df_producaoHOLHOS2['CID da Alta'].str.upper() != 'SEM ALTA')\n",
    "]\n",
    "\n",
    "# ✅ DF 2: Total de admissões (sem filtro)\n",
    "df_cid_total_holhos_AMH = df_producaoHOLHOS2.copy()\n",
    "\n",
    "# ✅ Agrupar DF 1: Total de admissões com CID preenchido\n",
    "agrupado_cid_holhos_AMH = df_cid_preenchido_holhos_AMH.groupby(\n",
    "    ['Ano', 'Mês', 'Hospital']\n",
    ").agg(\n",
    "    adm_com_cid_holhos_AMH=('Cód. Admissão', 'nunique')\n",
    ").reset_index()\n",
    "\n",
    "# ✅ Agrupar DF 2: Total de admissões geral\n",
    "agrupado_total_holhos_AMH = df_cid_total_holhos_AMH.groupby(\n",
    "    ['Ano', 'Mês', 'Hospital']\n",
    ").agg(\n",
    "    adm_total_holhos_AMH=('Cód. Admissão', 'nunique')\n",
    ").reset_index()\n",
    "\n",
    "# ✅ Juntar os dois DataFrames\n",
    "df_resultadoHOLHOS_AMH = pd.merge(\n",
    "    agrupado_total_holhos_AMH, \n",
    "    agrupado_cid_holhos_AMH, \n",
    "    on=['Ano', 'Mês', 'Hospital'], \n",
    "    how='left'\n",
    ")\n",
    "\n",
    "# ✅ Calcular percentual de admissões com CID preenchido\n",
    "df_resultadoHOLHOS_AMH['% Admissões Com CID Preenchido'] = (\n",
    "    (df_resultadoHOLHOS_AMH['adm_com_cid_holhos_AMH'] / df_resultadoHOLHOS_AMH['adm_total_holhos_AMH']) * 100\n",
    ").round(2)\n",
    "\n",
    "# Renomar colunas para melhor legibilidade\n",
    "df_resultadoHOLHOS_AMH = df_resultadoHOLHOS_AMH.rename(columns={'adm_total_holhos_AMH': 'Total Admissões'})\n",
    "df_resultadoHOLHOS_AMH = df_resultadoHOLHOS_AMH.rename(columns={'adm_com_cid_holhos_AMH': 'Total Admissões Com CIDs Preenchidos'})\n",
    "\n",
    "# Criar coluna pegando a diferença de cids preenchidos com não preenchidos para deixar mais claro visivelmente\n",
    "df_resultadoHOLHOS_AMH['% Admissões Sem CID Preenchido'] = (\n",
    "    (100 - df_resultadoHOLHOS_AMH['% Admissões Com CID Preenchido'])).round(2)"
   ]
  },
  {
   "cell_type": "code",
   "execution_count": null,
   "id": "bf5c6d34-6cfb-45e9-8b22-e98c3886511d",
   "metadata": {},
   "outputs": [],
   "source": [
    "df_resultadoHOLHOS_AMH.head(100)"
   ]
  },
  {
   "cell_type": "markdown",
   "id": "98a2b2db-3992-4002-9720-46e8adca8938",
   "metadata": {},
   "source": [
    "# BAIXAR BASE / DF -> VISÃO ANO, MÊS, HOSP -> HOSPITAL 6"
   ]
  },
  {
   "cell_type": "code",
   "execution_count": 155,
   "id": "86ce3c1a-2d8a-423f-91e5-ddae88cd66b5",
   "metadata": {},
   "outputs": [],
   "source": [
    "df_resultadoHOLHOS_AMH.to_excel(r\" caminho para baixar a base resultado em excel \", index=False)"
   ]
  },
  {
   "cell_type": "markdown",
   "id": "8491074a-45ee-4994-88dc-f04a1f6765a3",
   "metadata": {},
   "source": [
    "# VISÃO -> HOSP -> HOSPITAL 6\n",
    "\n",
    "# % TOTAL DO HOSP -> HOSPITAL 6"
   ]
  },
  {
   "cell_type": "code",
   "execution_count": 156,
   "id": "2ad30bf8-814f-41f1-bb59-34b736ba487c",
   "metadata": {},
   "outputs": [],
   "source": [
    "# ✅ DF 1: Admissões com CID preenchido (exclui 'SEM ALTA' e nulos)\n",
    "df_cid_preenchido_holhos_H = df_producaoHOLHOS2[\n",
    "    (df_producaoHOLHOS2['CID da Alta'].notna()) & \n",
    "    (df_producaoHOLHOS2['CID da Alta'].str.upper() != 'SEM ALTA')\n",
    "]\n",
    "\n",
    "# ✅ DF 2: Total de admissões (sem filtro)\n",
    "df_cid_total_holhos_H = df_producaoHOLHOS2.copy()\n",
    "\n",
    "# ✅ Agrupar DF 1: Total de admissões com CID preenchido\n",
    "agrupado_cid_holhos_H = df_cid_preenchido_holhos_H.groupby(\n",
    "    ['Hospital']\n",
    ").agg(\n",
    "    adm_com_cid_holhos_H=('Cód. Admissão', 'nunique')\n",
    ").reset_index()\n",
    "\n",
    "# ✅ Agrupar DF 2: Total de admissões geral\n",
    "agrupado_total_holhos_H = df_cid_total_holhos_H.groupby(\n",
    "    ['Hospital']\n",
    ").agg(\n",
    "    adm_total_holhos_H=('Cód. Admissão', 'nunique')\n",
    ").reset_index()\n",
    "\n",
    "# ✅ Juntar os dois DataFrames\n",
    "df_resultadoHOLHOS_H = pd.merge(\n",
    "    agrupado_total_holhos_H, \n",
    "    agrupado_cid_holhos_H, \n",
    "    on=['Hospital'], \n",
    "    how='left'\n",
    ")\n",
    "\n",
    "# ✅ Calcular percentual de admissões com CID preenchido\n",
    "df_resultadoHOLHOS_H['% Admissões Com CID Preenchido'] = (\n",
    "    (df_resultadoHOLHOS_H['adm_com_cid_holhos_H'] / df_resultadoHOLHOS_H['adm_total_holhos_H']) * 100\n",
    ").round(2)\n",
    "\n",
    "# Renomar colunas para melhor legibilidade\n",
    "df_resultadoHOLHOS_H = df_resultadoHOLHOS_H.rename(columns={'adm_total_holhos_H': 'Total Admissões'})\n",
    "df_resultadoHOLHOS_H = df_resultadoHOLHOS_H.rename(columns={'adm_total_holhos_H': 'Total Admissões Com CIDs Preenchidos'})\n",
    "\n",
    "# Criar coluna pegando a diferença de cids preenchidos com não preenchidos para deixar mais claro visivelmente\n",
    "df_resultadoHOLHOS_H['% Admissões Sem CID Preenchido'] = (\n",
    "    (100 - df_resultadoHOLHOS_H['% Admissões Com CID Preenchido'])).round(2)"
   ]
  },
  {
   "cell_type": "code",
   "execution_count": null,
   "id": "6ad2497e-4edd-4286-94d0-43a7eb7244c1",
   "metadata": {},
   "outputs": [],
   "source": [
    "df_resultadoHOLHOS_H.head(100)"
   ]
  },
  {
   "cell_type": "markdown",
   "id": "955e3339-c3aa-49a6-afca-3db07f06cb75",
   "metadata": {},
   "source": [
    "# BAIXAR BASE / DF -> VISÃO HOSP -> HOSPITAL 6"
   ]
  },
  {
   "cell_type": "code",
   "execution_count": 158,
   "id": "8d5709ca-2521-472a-9111-6ab7d45d97f4",
   "metadata": {},
   "outputs": [],
   "source": [
    "df_resultadoHOLHOS_H.to_excel(r\" caminho para baixar a base resultado em excel \", index=False)"
   ]
  },
  {
   "cell_type": "markdown",
   "id": "d293cbac-0ea8-4e8a-9244-8e32b1dc8d38",
   "metadata": {},
   "source": [
    "# VISÃO -> ANO, MÊS, HOSP E MÉDICO -> HOSPITAL 6\n",
    "\n",
    "# % TOTAL DO HOSP NO TEMPO POR MÉDICO -> HOSPITAL 6"
   ]
  },
  {
   "cell_type": "code",
   "execution_count": 159,
   "id": "24c331ec-5d4c-4c00-9ca1-cad047ef73fd",
   "metadata": {},
   "outputs": [],
   "source": [
    "# ✅ DF 1: Admissões com CID preenchido (exclui 'SEM ALTA' e nulos)\n",
    "df_cid_preenchido_holhos_AMHM = df_producaoHOLHOS2[\n",
    "    (df_producaoHOLHOS2['CID da Alta'].notna()) & \n",
    "    (df_producaoHOLHOS2['CID da Alta'].str.upper() != 'SEM ALTA')\n",
    "]\n",
    "\n",
    "# ✅ DF 2: Total de admissões (sem filtro)\n",
    "df_cid_total_holhos_AMHM = df_producaoHOLHOS2.copy()\n",
    "\n",
    "# ✅ Agrupar DF 1: Total de admissões com CID preenchido\n",
    "agrupado_cid_holhos_AMHM = df_cid_preenchido_holhos_AMHM.groupby(\n",
    "    ['Ano', 'Mês', 'Médico','Hospital']\n",
    ").agg(\n",
    "    adm_com_cid_holhos_AMHM=('Cód. Admissão', 'nunique')\n",
    ").reset_index()\n",
    "\n",
    "# ✅ Agrupar DF 2: Total de admissões geral\n",
    "agrupado_total_holhos_AMHM = df_cid_total_holhos_AMHM.groupby(\n",
    "    ['Ano', 'Mês', 'Médico','Hospital']\n",
    ").agg(\n",
    "    adm_total_holhos_AMHM=('Cód. Admissão', 'nunique')\n",
    ").reset_index()\n",
    "\n",
    "# ✅ Juntar os dois DataFrames\n",
    "df_resultadoHOLHOS_AMHM = pd.merge(\n",
    "    agrupado_total_holhos_AMHM, \n",
    "    agrupado_cid_holhos_AMHM, \n",
    "    on=['Ano', 'Mês', 'Médico','Hospital'], \n",
    "    how='left'\n",
    ")\n",
    "\n",
    "# ✅ Calcular percentual de admissões com CID preenchido\n",
    "df_resultadoHOLHOS_AMHM['% Admissões Com CID Preenchido'] = (\n",
    "    (df_resultadoHOLHOS_AMHM['adm_com_cid_holhos_AMHM'] / df_resultadoHOLHOS_AMHM['adm_total_holhos_AMHM']) * 100\n",
    ").round(2)\n",
    "\n",
    "# Renomear colunas para melhor legibilidade\n",
    "df_resultadoHOLHOS_AMHM = df_resultadoHOLHOS_AMHM.rename(columns={'adm_total_holhos_AMHM': 'Total Admissões'})\n",
    "df_resultadoHOLHOS_AMHM = df_resultadoHOLHOS_AMHM.rename(columns={'adm_com_cid_holhos_AMHM': 'Total Admissões Com CIDs Preenchidos'})\n",
    "\n",
    "# Criar coluna pegando a diferença de cids preenchidos com não preenchidos para deixar mais claro visivelmente\n",
    "df_resultadoHOLHOS_AMHM['% Admissões Sem CID Preenchido'] = (\n",
    "    (100 - df_resultadoHOLHOS_AMHM['% Admissões Com CID Preenchido'])).round(2)"
   ]
  },
  {
   "cell_type": "code",
   "execution_count": null,
   "id": "5121685c-80ad-483c-990c-cdd1e1766191",
   "metadata": {},
   "outputs": [],
   "source": [
    "df_resultadoHOLHOS_AMHM.head(100)"
   ]
  },
  {
   "cell_type": "markdown",
   "id": "e916a8f9-bfde-4a1d-82c5-b1179758b05c",
   "metadata": {},
   "source": [
    "# BAIXAR BASE / DF -> VISÃO ANO, MÊS, HOSP E MÉDICO -> HOSPITAL 6"
   ]
  },
  {
   "cell_type": "code",
   "execution_count": 161,
   "id": "ea6298c2-00b5-4894-bafd-3fbbba23b5f3",
   "metadata": {},
   "outputs": [],
   "source": [
    "df_resultadoHOLHOS_AMHM.to_excel(r\" caminho para baixar a base resultado em excel \", index=False)"
   ]
  },
  {
   "cell_type": "markdown",
   "id": "95329d32-7fb1-4bf8-ab70-7dd10158fd63",
   "metadata": {},
   "source": [
    "# VISÃO -> HOSP E MÉDICO -> HOSPITAL 6\n",
    "\n",
    "# % TOTAL DO HOSP POR MÉDICO -> HOSPITAL 6"
   ]
  },
  {
   "cell_type": "code",
   "execution_count": 162,
   "id": "92247fa1-96ac-490e-ae39-6139baa5146a",
   "metadata": {},
   "outputs": [],
   "source": [
    "# ✅ DF 1: Admissões com CID preenchido (exclui 'SEM ALTA' e nulos)\n",
    "df_cid_preenchido_holhos_HM = df_producaoHOLHOS2[\n",
    "    (df_producaoHOLHOS2['CID da Alta'].notna()) & \n",
    "    (df_producaoHOLHOS2['CID da Alta'].str.upper() != 'SEM ALTA')\n",
    "]\n",
    "\n",
    "# ✅ DF 2: Total de admissões (sem filtro)\n",
    "df_cid_total_holhos_HM = df_producaoHOLHOS2.copy()\n",
    "\n",
    "# ✅ Agrupar DF 1: Total de admissões com CID preenchido\n",
    "agrupado_cid_holhos_HM = df_cid_preenchido_holhos_HM.groupby(\n",
    "    ['Médico','Hospital']\n",
    ").agg(\n",
    "    adm_com_cid_holhos_HM=('Cód. Admissão', 'nunique')\n",
    ").reset_index()\n",
    "\n",
    "# ✅ Agrupar DF 2: Total de admissões geral\n",
    "agrupado_total_holhos_HM = df_cid_total_holhos_HM.groupby(\n",
    "    ['Médico','Hospital']\n",
    ").agg(\n",
    "    adm_total_holhos_HM=('Cód. Admissão', 'nunique')\n",
    ").reset_index()\n",
    "\n",
    "# ✅ Juntar os dois DataFrames\n",
    "df_resultadoHOLHOS_HM = pd.merge(\n",
    "    agrupado_total_holhos_HM, \n",
    "    agrupado_cid_holhos_HM, \n",
    "    on=['Médico','Hospital'], \n",
    "    how='left'\n",
    ")\n",
    "\n",
    "# ✅ Calcular percentual de admissões com CID preenchido\n",
    "df_resultadoHOLHOS_HM['% Admissões Com CID Preenchido'] = (\n",
    "    (df_resultadoHOLHOS_HM['adm_com_cid_holhos_HM'] / df_resultadoHOLHOS_HM['adm_total_holhos_HM']) * 100\n",
    ").round(2)\n",
    "\n",
    "# Renomear colunas para melhor legibilidade\n",
    "df_resultadoHOLHOS_HM = df_resultadoHOLHOS_HM.rename(columns={'adm_total_holhos_HM': 'Total Admissões'})\n",
    "df_resultadoHOLHOS_HM = df_resultadoHOLHOS_HM.rename(columns={'adm_com_cid_holhos_HM': 'Total Admissões Com CIDs Preenchidos'})\n",
    "\n",
    "# Criar coluna pegando a diferença de cids preenchidos com não preenchidos para deixar mais claro visivelmente\n",
    "df_resultadoHOLHOS_HM['% Admissões Sem CID Preenchido'] = (\n",
    "    (100 - df_resultadoHOLHOS_HM['% Admissões Com CID Preenchido'])).round(2)"
   ]
  },
  {
   "cell_type": "code",
   "execution_count": null,
   "id": "ce1605b1-5449-4067-a8bc-54de9c2d4629",
   "metadata": {},
   "outputs": [],
   "source": [
    "df_resultadoHOLHOS_HM.head(100)"
   ]
  },
  {
   "cell_type": "markdown",
   "id": "e2698390-1522-4738-824e-b95cd117efd0",
   "metadata": {},
   "source": [
    "# BAIXAR BASE / DF -> VISÃO HOSP E MÉDICO -> HOSPITAL 6"
   ]
  },
  {
   "cell_type": "code",
   "execution_count": 164,
   "id": "4d4e12e3-a2b8-46b7-ad18-a491d8182079",
   "metadata": {},
   "outputs": [],
   "source": [
    "df_resultadoHOLHOS_HM.to_excel(r\" caminho para baixar a base resultado em excel \", index=False)"
   ]
  },
  {
   "cell_type": "markdown",
   "id": "0746b452-03bc-49f8-baa8-c23d5a7b4d48",
   "metadata": {},
   "source": [
    "# ///////////////////////////////////////////////////////////////////////////////////////////"
   ]
  },
  {
   "cell_type": "markdown",
   "id": "6fca6ff7-4217-4c2d-a197-06b6215c5eae",
   "metadata": {},
   "source": [
    "# ///////////////////////////////////////////////////////////////////////////////////////////"
   ]
  },
  {
   "cell_type": "markdown",
   "id": "28314dea-7607-4c30-8626-86cb67f84b3e",
   "metadata": {},
   "source": [
    "# ///////////////////////////////////////////////////////////////////////////////////////////"
   ]
  },
  {
   "cell_type": "markdown",
   "id": "9ece8ea9-ace0-4eae-a61b-7e2c1d60d5bb",
   "metadata": {},
   "source": [
    "# HOSPITAL 7 "
   ]
  },
  {
   "cell_type": "code",
   "execution_count": 165,
   "id": "ecef17cb-3825-47c4-9f12-3423cacc14ff",
   "metadata": {},
   "outputs": [
    {
     "name": "stderr",
     "output_type": "stream",
     "text": [
      "C:\\Users\\HenriquedaLuzPacheco\\anaconda3\\Lib\\site-packages\\openpyxl\\styles\\stylesheet.py:237: UserWarning: Workbook contains no default style, apply openpyxl's default\n",
      "  warn(\"Workbook contains no default style, apply openpyxl's default\")\n",
      "C:\\Users\\HenriquedaLuzPacheco\\anaconda3\\Lib\\site-packages\\openpyxl\\styles\\stylesheet.py:237: UserWarning: Workbook contains no default style, apply openpyxl's default\n",
      "  warn(\"Workbook contains no default style, apply openpyxl's default\")\n",
      "C:\\Users\\HenriquedaLuzPacheco\\anaconda3\\Lib\\site-packages\\openpyxl\\styles\\stylesheet.py:237: UserWarning: Workbook contains no default style, apply openpyxl's default\n",
      "  warn(\"Workbook contains no default style, apply openpyxl's default\")\n",
      "C:\\Users\\HenriquedaLuzPacheco\\anaconda3\\Lib\\site-packages\\openpyxl\\styles\\stylesheet.py:237: UserWarning: Workbook contains no default style, apply openpyxl's default\n",
      "  warn(\"Workbook contains no default style, apply openpyxl's default\")\n",
      "C:\\Users\\HenriquedaLuzPacheco\\anaconda3\\Lib\\site-packages\\openpyxl\\styles\\stylesheet.py:237: UserWarning: Workbook contains no default style, apply openpyxl's default\n",
      "  warn(\"Workbook contains no default style, apply openpyxl's default\")\n",
      "C:\\Users\\HenriquedaLuzPacheco\\anaconda3\\Lib\\site-packages\\openpyxl\\styles\\stylesheet.py:237: UserWarning: Workbook contains no default style, apply openpyxl's default\n",
      "  warn(\"Workbook contains no default style, apply openpyxl's default\")\n",
      "C:\\Users\\HenriquedaLuzPacheco\\anaconda3\\Lib\\site-packages\\openpyxl\\styles\\stylesheet.py:237: UserWarning: Workbook contains no default style, apply openpyxl's default\n",
      "  warn(\"Workbook contains no default style, apply openpyxl's default\")\n",
      "C:\\Users\\HenriquedaLuzPacheco\\anaconda3\\Lib\\site-packages\\openpyxl\\styles\\stylesheet.py:237: UserWarning: Workbook contains no default style, apply openpyxl's default\n",
      "  warn(\"Workbook contains no default style, apply openpyxl's default\")\n",
      "C:\\Users\\HenriquedaLuzPacheco\\anaconda3\\Lib\\site-packages\\openpyxl\\styles\\stylesheet.py:237: UserWarning: Workbook contains no default style, apply openpyxl's default\n",
      "  warn(\"Workbook contains no default style, apply openpyxl's default\")\n"
     ]
    }
   ],
   "source": [
    "# PRODUÇÃO GERAL\n",
    "\n",
    "# Especificar o caminho da pasta\n",
    "folder_path = r\" caminho da pasta para leitura de bases / arquivos excel e csv \"\n",
    "\n",
    "# Inicializar um DataFrame vazio\n",
    "df_producaoHOPE = pd.DataFrame()\n",
    "\n",
    "# Loop através de todos os arquivos na pasta\n",
    "for file_name in os.listdir(folder_path):\n",
    "    file_path = os.path.join(folder_path, file_name)\n",
    "    try:\n",
    "        if file_name.endswith(('.xlsx', '.xls')):\n",
    "            # Ler arquivo Excel\n",
    "            df_temp = pd.read_excel(file_path)\n",
    "        elif file_name.endswith('.csv'):\n",
    "            # Tentar detectar automaticamente o delimitador\n",
    "            df_temp = pd.read_csv(file_path, sep=None, engine='python')\n",
    "        else:\n",
    "            # Pular arquivos que não sejam Excel ou CSV\n",
    "            continue\n",
    "        \n",
    "        # Concatenar os dados lidos com o DataFrame principal\n",
    "        df_producaoHOPE = pd.concat([df_producaoHOPE, df_temp], ignore_index=True)\n",
    "    except Exception as e:\n",
    "        print(f\"Erro ao processar o arquivo {file_name}: {e}\")\n",
    "\n",
    "df_producaoHOPE = df_producaoHOPE.drop_duplicates()\n",
    "df_producaoHOPE['Cód. Paciente'] = df_producaoHOPE['Cód. Paciente'].astype(str)\n",
    "df_producaoHOPE['Cód. Paciente'] = df_producaoHOPE['Cód. Paciente'].str.rstrip('.0')\n",
    "\n",
    "df_producaoHOPE['Cód. Admissão'] = df_producaoHOPE['Cód. Admissão'].astype(str)\n",
    "df_producaoHOPE['Cód. Admissão'] = df_producaoHOPE['Cód. Admissão'].str.rstrip('.0')\n",
    "\n",
    "# CORRIGIR / UNIFICAR COLUNAS DE ANO e MÊS\n",
    "\n",
    "# Preencher nulos de 'Ano' com valores de 'Data - Ano'\n",
    "df_producaoHOPE['Ano'] = df_producaoHOPE['Ano'].fillna(df_producaoHOPE['Data - Ano'])\n",
    "\n",
    "# Preencher nulos de 'Mês' com valores de 'Data - Mês'\n",
    "df_producaoHOPE['Mês'] = df_producaoHOPE['Mês'].fillna(df_producaoHOPE['Data - Mês'])\n",
    "\n",
    "# Remover linhas onde o valor de 'Ano' não é número\n",
    "df_producaoHOPE = df_producaoHOPE[df_producaoHOPE['Ano'].astype(str).str.isnumeric()]\n",
    "\n",
    "# Agora converter o tipo\n",
    "df_producaoHOPE['Ano'] = df_producaoHOPE['Ano'].astype(int)\n",
    "\n",
    "# Se quiser garantir que Mês seja texto\n",
    "df_producaoHOPE['Mês'] = df_producaoHOPE['Mês'].astype(str)\n",
    "\n",
    "# Remover colunas auxiliares\n",
    "df_producaoHOPE.drop(columns=['Data - Ano', 'Data - Mês'], inplace=True)"
   ]
  },
  {
   "cell_type": "code",
   "execution_count": null,
   "id": "e8f5053b-24dc-43de-bf82-5a91f5632421",
   "metadata": {},
   "outputs": [],
   "source": [
    "df_producaoHOPE.head(100)"
   ]
  },
  {
   "cell_type": "code",
   "execution_count": 173,
   "id": "2d48d97a-8cdc-49e0-b6e4-c5fa4283e8d4",
   "metadata": {},
   "outputs": [
    {
     "data": {
      "text/plain": [
       "1126624"
      ]
     },
     "execution_count": 173,
     "metadata": {},
     "output_type": "execute_result"
    }
   ],
   "source": [
    "df_producaoHOPE['Cód. Admissão'].nunique()"
   ]
  },
  {
   "cell_type": "markdown",
   "id": "7f6d6949-e0ce-4779-ad23-59ce70cfe9b6",
   "metadata": {},
   "source": [
    "# TRATAR / FILTRAR DADOS -> HOSPITAL 7"
   ]
  },
  {
   "cell_type": "code",
   "execution_count": 174,
   "id": "17d7a47d-245a-4346-8cf0-e52c8bd96180",
   "metadata": {},
   "outputs": [
    {
     "data": {
      "text/plain": [
       "Index(['Cód. Admissão', 'Data Admissão', 'Hora Admissão', 'Categoria',\n",
       "       'Subcategoria', 'Profissional Solicitante', 'Profissional Admissão',\n",
       "       'Médico Externo', 'Classificação Produto', 'CID da Alta',\n",
       "       'Tipo Recebimento', 'Origem Recebimento', 'Plano',\n",
       "       'Procedimento Principal', 'Produto Lançamento', 'Cód. Apresentação',\n",
       "       'Unidade', 'Especialidade', 'Caráter Admissão', 'Tipo Paciente',\n",
       "       'Observação Admissão', 'Tipo Produto', 'Pacote', 'Cód. Paciente',\n",
       "       'Paciente', 'Data Nascimento', 'Idade', 'Faixa Etária', 'Solicitante',\n",
       "       'Médico', 'Cirurgião', 'Destino', 'Qtd. Produzida', 'Valor Produzido',\n",
       "       'Ano', 'Mês', 'Convênio', 'Perfil Particular', 'Grupo Hospitalar'],\n",
       "      dtype='object')"
      ]
     },
     "execution_count": 174,
     "metadata": {},
     "output_type": "execute_result"
    }
   ],
   "source": [
    "df_producaoHOPE.columns"
   ]
  },
  {
   "cell_type": "code",
   "execution_count": 176,
   "id": "c75fef62-3d05-4a93-9c73-de9c7fce933b",
   "metadata": {},
   "outputs": [],
   "source": [
    "df_producaoHOPE2 = df_producaoHOPE.copy()"
   ]
  },
  {
   "cell_type": "code",
   "execution_count": 177,
   "id": "e34f4656-a89b-4427-9cfd-35f3bc09cfe4",
   "metadata": {},
   "outputs": [],
   "source": [
    "# TIRAR COLUNAS QUE NÃO VÃO SER UTILIZADAS\n",
    "df_producaoHOPE2 = df_producaoHOPE2[['Cód. Paciente', 'Cód. Admissão', 'Ano', 'Mês', 'Médico', 'Unidade', 'CID da Alta']]\n",
    "\n",
    "# RENOMAR COLUNA DE UNIDADE PARA NOME ÚNICO DO HOSPITAL\n",
    "df_producaoHOPE2 = df_producaoHOPE2.rename(columns={'Unidade': 'Hospital'})\n",
    "df_producaoHOPE2['Hospital'] = 'HOSPITAL 7'"
   ]
  },
  {
   "cell_type": "code",
   "execution_count": null,
   "id": "5dbba2d9-bbc5-4ff6-8f11-536f00f75e8f",
   "metadata": {},
   "outputs": [],
   "source": [
    "df_producaoHOPE2.head(100)"
   ]
  },
  {
   "cell_type": "markdown",
   "id": "b3a27f30-516a-45bd-b3a6-23953d2d4647",
   "metadata": {},
   "source": [
    "# VISÃO -> ANO, MÊS, HOSP -> HOSPITAL 7\n",
    "\n",
    "# % TOTAL DO HOSP NO TEMPO -> HOSPITAL 7"
   ]
  },
  {
   "cell_type": "code",
   "execution_count": 179,
   "id": "4cf98a1f-bff2-42c6-ba15-1dbe50643549",
   "metadata": {},
   "outputs": [],
   "source": [
    "# ✅ DF 1: Admissões com CID preenchido (exclui 'SEM ALTA' e nulos)\n",
    "df_cid_preenchido_hope_AMH = df_producaoHOPE2[\n",
    "    (df_producaoHOPE2['CID da Alta'].notna()) & \n",
    "    (df_producaoHOPE2['CID da Alta'].str.upper() != 'SEM ALTA')\n",
    "]\n",
    "\n",
    "# ✅ DF 2: Total de admissões (sem filtro)\n",
    "df_cid_total_hope_AMH = df_producaoHOPE2.copy()\n",
    "\n",
    "# ✅ Agrupar DF 1: Total de admissões com CID preenchido\n",
    "agrupado_cid_hope_AMH = df_cid_preenchido_hope_AMH.groupby(\n",
    "    ['Ano', 'Mês', 'Hospital']\n",
    ").agg(\n",
    "    adm_com_cid_hope_AMH=('Cód. Admissão', 'nunique')\n",
    ").reset_index()\n",
    "\n",
    "# ✅ Agrupar DF 2: Total de admissões geral\n",
    "agrupado_total_hope_AMH = df_cid_total_hope_AMH.groupby(\n",
    "    ['Ano', 'Mês', 'Hospital']\n",
    ").agg(\n",
    "    adm_total_hope_AMH=('Cód. Admissão', 'nunique')\n",
    ").reset_index()\n",
    "\n",
    "# ✅ Juntar os dois DataFrames\n",
    "df_resultadoHOPE_AMH = pd.merge(\n",
    "    agrupado_total_hope_AMH, \n",
    "    agrupado_cid_hope_AMH, \n",
    "    on=['Ano', 'Mês', 'Hospital'], \n",
    "    how='left'\n",
    ")\n",
    "\n",
    "# ✅ Calcular percentual de admissões com CID preenchido\n",
    "df_resultadoHOPE_AMH['% Admissões Com CID Preenchido'] = (\n",
    "    (df_resultadoHOPE_AMH['adm_com_cid_hope_AMH'] / df_resultadoHOPE_AMH['adm_total_hope_AMH']) * 100\n",
    ").round(2)\n",
    "\n",
    "# Renomar colunas para melhor legibilidade\n",
    "df_resultadoHOPE_AMH = df_resultadoHOPE_AMH.rename(columns={'adm_total_hope_AMH': 'Total Admissões'})\n",
    "df_resultadoHOPE_AMH = df_resultadoHOPE_AMH.rename(columns={'adm_com_cid_hope_AMH': 'Total Admissões Com CIDs Preenchidos'})\n",
    "\n",
    "# Criar coluna pegando a diferença de cids preenchidos com não preenchidos para deixar mais claro visivelmente\n",
    "df_resultadoHOPE_AMH['% Admissões Sem CID Preenchido'] = (\n",
    "    (100 - df_resultadoHOPE_AMH['% Admissões Com CID Preenchido'])).round(2)"
   ]
  },
  {
   "cell_type": "code",
   "execution_count": null,
   "id": "f540dbd7-152a-4915-815b-c8567d90d0dd",
   "metadata": {},
   "outputs": [],
   "source": [
    "df_resultadoHOPE_AMH.head(100)"
   ]
  },
  {
   "cell_type": "markdown",
   "id": "1946ea13-a90c-4217-bbc2-c5b3458ce86b",
   "metadata": {},
   "source": [
    "# BAIXAR BASE / DF -> VISÃO ANO, MÊS, HOSP -> HOSPITAL 7"
   ]
  },
  {
   "cell_type": "code",
   "execution_count": 181,
   "id": "4277a3f4-6645-4b71-b619-ccbc9d7a7b1f",
   "metadata": {},
   "outputs": [],
   "source": [
    "df_resultadoHOPE_AMH.to_excel(r\" caminho para baixar a base resultado em excel \", index=False)"
   ]
  },
  {
   "cell_type": "markdown",
   "id": "1d060cf8-8970-4764-8a04-405ab315448e",
   "metadata": {},
   "source": [
    "# VISÃO -> HOSP -> HOSPITAL 7\n",
    "\n",
    "# % TOTAL DO HOSP -> HOSPITAL 7"
   ]
  },
  {
   "cell_type": "code",
   "execution_count": 182,
   "id": "cc9487eb-5c5a-4450-a909-f5ba2962a619",
   "metadata": {},
   "outputs": [],
   "source": [
    "# ✅ DF 1: Admissões com CID preenchido (exclui 'SEM ALTA' e nulos)\n",
    "df_cid_preenchido_hope_H = df_producaoHOPE2[\n",
    "    (df_producaoHOPE2['CID da Alta'].notna()) & \n",
    "    (df_producaoHOPE2['CID da Alta'].str.upper() != 'SEM ALTA')\n",
    "]\n",
    "\n",
    "# ✅ DF 2: Total de admissões (sem filtro)\n",
    "df_cid_total_hope_H = df_producaoHOPE2.copy()\n",
    "\n",
    "# ✅ Agrupar DF 1: Total de admissões com CID preenchido\n",
    "agrupado_cid_hope_H = df_cid_preenchido_hope_H.groupby(\n",
    "    ['Hospital']\n",
    ").agg(\n",
    "    adm_com_cid_hope_H=('Cód. Admissão', 'nunique')\n",
    ").reset_index()\n",
    "\n",
    "# ✅ Agrupar DF 2: Total de admissões geral\n",
    "agrupado_total_hope_H = df_cid_total_hope_H.groupby(\n",
    "    ['Hospital']\n",
    ").agg(\n",
    "    adm_total_hope_H=('Cód. Admissão', 'nunique')\n",
    ").reset_index()\n",
    "\n",
    "# ✅ Juntar os dois DataFrames\n",
    "df_resultadoHOPE_H = pd.merge(\n",
    "    agrupado_total_hope_H, \n",
    "    agrupado_cid_hope_H, \n",
    "    on=['Hospital'], \n",
    "    how='left'\n",
    ")\n",
    "\n",
    "# ✅ Calcular percentual de admissões com CID preenchido\n",
    "df_resultadoHOPE_H['% Admissões Com CID Preenchido'] = (\n",
    "    (df_resultadoHOPE_H['adm_com_cid_hope_H'] / df_resultadoHOPE_H['adm_total_hope_H']) * 100\n",
    ").round(2)\n",
    "\n",
    "# Renomar colunas para melhor legibilidade\n",
    "df_resultadoHOPE_H = df_resultadoHOPE_H.rename(columns={'adm_total_hope_H': 'Total Admissões'})\n",
    "df_resultadoHOPE_H = df_resultadoHOPE_H.rename(columns={'adm_com_cid_hope_H': 'Total Admissões Com CIDs Preenchidos'})\n",
    "\n",
    "# Criar coluna pegando a diferença de cids preenchidos com não preenchidos para deixar mais claro visivelmente\n",
    "df_resultadoHOPE_H['% Admissões Sem CID Preenchido'] = (\n",
    "    (100 - df_resultadoHOPE_H['% Admissões Com CID Preenchido'])).round(2)"
   ]
  },
  {
   "cell_type": "code",
   "execution_count": null,
   "id": "883fb436-967d-4bab-a376-9cb8c7b6fcec",
   "metadata": {},
   "outputs": [],
   "source": [
    "df_resultadoHOPE_H.head(100)"
   ]
  },
  {
   "cell_type": "markdown",
   "id": "85b62bc4-c766-49cb-badf-6ee31eab9c5e",
   "metadata": {},
   "source": [
    "# BAIXAR BASE / DF -> VISÃO HOSP -> HOSPITAL 7"
   ]
  },
  {
   "cell_type": "code",
   "execution_count": 184,
   "id": "034add23-0bce-47a8-ad24-a79bfaec6465",
   "metadata": {},
   "outputs": [],
   "source": [
    "df_resultadoHOPE_H.to_excel(r\" caminho para baixar a base resultado em excel \", index=False)"
   ]
  },
  {
   "cell_type": "markdown",
   "id": "18d142cb-355e-4b0a-b984-e53333b8a6dc",
   "metadata": {},
   "source": [
    "# VISÃO -> ANO, MÊS, HOSP E MÉDICO -> HOSPITAL 7\n",
    "\n",
    "# % TOTAL DO HOSP NO TEMPO POR MÉDICO -> HOSPITAL 7"
   ]
  },
  {
   "cell_type": "code",
   "execution_count": 185,
   "id": "bc287972-62a9-4dcf-9352-f9a30631f64d",
   "metadata": {},
   "outputs": [],
   "source": [
    "# ✅ DF 1: Admissões com CID preenchido (exclui 'SEM ALTA' e nulos)\n",
    "df_cid_preenchido_hope_AMHM = df_producaoHOPE2[\n",
    "    (df_producaoHOPE2['CID da Alta'].notna()) & \n",
    "    (df_producaoHOPE2['CID da Alta'].str.upper() != 'SEM ALTA')\n",
    "]\n",
    "\n",
    "# ✅ DF 2: Total de admissões (sem filtro)\n",
    "df_cid_total_hope_AMHM = df_producaoHOPE2.copy()\n",
    "\n",
    "# ✅ Agrupar DF 1: Total de admissões com CID preenchido\n",
    "agrupado_cid_hope_AMHM = df_cid_preenchido_hope_AMHM.groupby(\n",
    "    ['Ano', 'Mês', 'Médico', 'Hospital']\n",
    ").agg(\n",
    "    adm_com_cid_hope_AMHM=('Cód. Admissão', 'nunique')\n",
    ").reset_index()\n",
    "\n",
    "# ✅ Agrupar DF 2: Total de admissões geral\n",
    "agrupado_total_hope_AMHM = df_cid_total_hope_AMHM.groupby(\n",
    "    ['Ano', 'Mês', 'Médico', 'Hospital']\n",
    ").agg(\n",
    "    adm_total_hope_AMHM=('Cód. Admissão', 'nunique')\n",
    ").reset_index()\n",
    "\n",
    "# ✅ Juntar os dois DataFrames\n",
    "df_resultadoHOPE_AMHM = pd.merge(\n",
    "    agrupado_total_hope_AMHM, \n",
    "    agrupado_cid_hope_AMHM, \n",
    "    on=['Ano', 'Mês', 'Médico', 'Hospital'], \n",
    "    how='left'\n",
    ")\n",
    "\n",
    "# ✅ Calcular percentual de admissões com CID preenchido\n",
    "df_resultadoHOPE_AMHM['% Admissões Com CID Preenchido'] = (\n",
    "    (df_resultadoHOPE_AMHM['adm_com_cid_hope_AMHM'] / df_resultadoHOPE_AMHM['adm_total_hope_AMHM']) * 100\n",
    ").round(2)\n",
    "\n",
    "# Renomear colunas para melhor legibilidade\n",
    "df_resultadoHOPE_AMHM = df_resultadoHOPE_AMHM.rename(columns={'adm_total_hope_AMHM': 'Total Admissões'})\n",
    "df_resultadoHOPE_AMHM = df_resultadoHOPE_AMHM.rename(columns={'adm_com_cid_hope_AMHM': 'Total Admissões Com CIDs Preenchidos'})\n",
    "\n",
    "# Criar coluna pegando a diferença de cids preenchidos com não preenchidos para deixar mais claro visivelmente\n",
    "df_resultadoHOPE_AMHM['% Admissões Sem CID Preenchido'] = (\n",
    "    (100 - df_resultadoHOPE_AMHM['% Admissões Com CID Preenchido'])).round(2)"
   ]
  },
  {
   "cell_type": "code",
   "execution_count": null,
   "id": "e082507e-fe04-49a4-82f2-78d983a64244",
   "metadata": {},
   "outputs": [],
   "source": [
    "df_resultadoHOPE_AMHM.head(100)"
   ]
  },
  {
   "cell_type": "markdown",
   "id": "e7ab7a15-ef65-4de1-9ff3-f02bf863f25d",
   "metadata": {},
   "source": [
    "# BAIXAR BASE / DF -> VISÃO ANO, MÊS, HOSP E MÉDICO -> HOSPITAL 7"
   ]
  },
  {
   "cell_type": "code",
   "execution_count": 187,
   "id": "19a7c0f0-0e48-42c1-8682-ccd262b06156",
   "metadata": {},
   "outputs": [],
   "source": [
    "df_resultadoHOPE_AMHM.to_excel(r\" caminho para baixar a base resultado em excel \", index=False)"
   ]
  },
  {
   "cell_type": "markdown",
   "id": "b06a4056-2470-4578-99e8-a8d20be4c5d4",
   "metadata": {},
   "source": [
    "# VISÃO -> HOSP E MÉDICO -> HOSPITAL 7\n",
    "\n",
    "# % TOTAL DO HOSP POR MÉDICO -> HOSPITAL 7"
   ]
  },
  {
   "cell_type": "code",
   "execution_count": 188,
   "id": "5f779989-25dc-4eef-ad62-67ca70b97363",
   "metadata": {},
   "outputs": [],
   "source": [
    "# ✅ DF 1: Admissões com CID preenchido (exclui 'SEM ALTA' e nulos)\n",
    "df_cid_preenchido_hope_HM = df_producaoHOPE2[\n",
    "    (df_producaoHOPE2['CID da Alta'].notna()) & \n",
    "    (df_producaoHOPE2['CID da Alta'].str.upper() != 'SEM ALTA')\n",
    "]\n",
    "\n",
    "# ✅ DF 2: Total de admissões (sem filtro)\n",
    "df_cid_total_hope_HM = df_producaoHOPE2.copy()\n",
    "\n",
    "# ✅ Agrupar DF 1: Total de admissões com CID preenchido\n",
    "agrupado_cid_hope_HM = df_cid_preenchido_hope_HM.groupby(\n",
    "    ['Médico', 'Hospital']\n",
    ").agg(\n",
    "    adm_com_cid_hope_HM=('Cód. Admissão', 'nunique')\n",
    ").reset_index()\n",
    "\n",
    "# ✅ Agrupar DF 2: Total de admissões geral\n",
    "agrupado_total_hope_HM = df_cid_total_hope_HM.groupby(\n",
    "    ['Médico', 'Hospital']\n",
    ").agg(\n",
    "    adm_total_hope_HM=('Cód. Admissão', 'nunique')\n",
    ").reset_index()\n",
    "\n",
    "# ✅ Juntar os dois DataFrames\n",
    "df_resultadoHOPE_HM = pd.merge(\n",
    "    agrupado_total_hope_HM, \n",
    "    agrupado_cid_hope_HM, \n",
    "    on=['Médico', 'Hospital'], \n",
    "    how='left'\n",
    ")\n",
    "\n",
    "# ✅ Calcular percentual de admissões com CID preenchido\n",
    "df_resultadoHOPE_HM['% Admissões Com CID Preenchido'] = (\n",
    "    (df_resultadoHOPE_HM['adm_com_cid_hope_HM'] / df_resultadoHOPE_HM['adm_total_hope_HM']) * 100\n",
    ").round(2)\n",
    "\n",
    "# Renomear colunas para melhor legibilidade\n",
    "df_resultadoHOPE_HM = df_resultadoHOPE_HM.rename(columns={\n",
    "    'adm_total_hope_HM': 'Total Admissões',\n",
    "    'adm_com_cid_hope_HM': 'Total Admissões Com CIDs Preenchidos'\n",
    "})\n",
    "\n",
    "# Criar coluna pegando a diferença de cids preenchidos com não preenchidos para deixar mais claro visivelmente\n",
    "df_resultadoHOPE_HM['% Admissões Sem CID Preenchido'] = (\n",
    "    100 - df_resultadoHOPE_HM['% Admissões Com CID Preenchido']\n",
    ").round(2)"
   ]
  },
  {
   "cell_type": "code",
   "execution_count": null,
   "id": "cfdab9d1-249e-4fe6-a9e4-5e06df2c5c77",
   "metadata": {},
   "outputs": [],
   "source": [
    "df_resultadoHOPE_HM.head(100)"
   ]
  },
  {
   "cell_type": "markdown",
   "id": "db668029-4e7b-4920-bd68-5dca067ecf63",
   "metadata": {},
   "source": [
    "# BAIXAR BASE / DF -> VISÃO HOSP E MÉDICO -> HOSPITAL 7"
   ]
  },
  {
   "cell_type": "code",
   "execution_count": 190,
   "id": "4194cac0-77ba-4730-a2fd-319e12df3a64",
   "metadata": {},
   "outputs": [],
   "source": [
    "df_resultadoHOPE_HM.to_excel(r\" caminho para baixar a base resultado em excel \", index=False)"
   ]
  },
  {
   "cell_type": "code",
   "execution_count": null,
   "id": "c857411a-9422-4e2d-aad7-70c81dd0aa82",
   "metadata": {},
   "outputs": [],
   "source": []
  }
 ],
 "metadata": {
  "kernelspec": {
   "display_name": "Python 3 (ipykernel)",
   "language": "python",
   "name": "python3"
  },
  "language_info": {
   "codemirror_mode": {
    "name": "ipython",
    "version": 3
   },
   "file_extension": ".py",
   "mimetype": "text/x-python",
   "name": "python",
   "nbconvert_exporter": "python",
   "pygments_lexer": "ipython3",
   "version": "3.12.7"
  }
 },
 "nbformat": 4,
 "nbformat_minor": 5
}
